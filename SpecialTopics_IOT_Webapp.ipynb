{
  "nbformat": 4,
  "nbformat_minor": 0,
  "metadata": {
    "colab": {
      "name": "SpecialTopics_IOT_Webapp.ipynb",
      "provenance": [],
      "collapsed_sections": []
    },
    "kernelspec": {
      "name": "python3",
      "display_name": "Python 3"
    }
  },
  "cells": [
    {
      "cell_type": "markdown",
      "metadata": {
        "id": "KhemsD6Rtxk_"
      },
      "source": [
        "#**Emerging Technologies - Assignment**"
      ]
    },
    {
      "cell_type": "markdown",
      "metadata": {
        "id": "ikkjNLZqrB8B"
      },
      "source": [
        "**Area 1** : IoT and mobile devices with Google Cloud backend (or firebase): set the serverless backend for IoT (MQTT protocol) and mobile devices (iOS or Android HTTP REST API) with firestore db.\n",
        "\n",
        "**IoT (any VM, or Linux/Win/MacOS machine) and any mobile devices(web or phone)**: Here we are using Google Colab as VM and Web application as mobile device side.\n",
        "\n",
        "**Simulated application**: IoT device provide real-time sensor data via MQTT to the Cloud, mobile device can receive real-time updates or notification from the backend (REST API + Websocket or Notification), mobile device can also send command to the IoT device (e.g., set value), mobile device can fetch history data and plot the diagram (via REST API, draw the graph/diagram).\n",
        "\n",
        "Overview of steps followed for this project is as follows:\n",
        "\n",
        "* Using Google Colab as Virtual machine for Iot side  \n",
        "* Using a Google cloud function Rest API written in node js to send data from VM to  Google pubsub through MQTT protocol.\n",
        "* Sending the data from Google PubSub to Google Firestore using HTTP API.\n",
        "* Access data through a web app for GET, POST, PUT,DELETE operations.\n",
        "* Plotting graphs considering the historical data of temperature"
      ]
    },
    {
      "cell_type": "markdown",
      "metadata": {
        "id": "snpnAVHl3Jv0"
      },
      "source": [
        "# Install required packages \n",
        "Most of them are already installed in Colab"
      ]
    },
    {
      "cell_type": "code",
      "metadata": {
        "id": "8fFL43MdLtGX",
        "outputId": "941cf131-7d48-4907-cdc1-a9964b675a02",
        "colab": {
          "base_uri": "https://localhost:8080/",
          "height": 460
        }
      },
      "source": [
        "!pip install google-cloud-iot"
      ],
      "execution_count": null,
      "outputs": [
        {
          "output_type": "stream",
          "text": [
            "Requirement already satisfied: google-cloud-iot in /usr/local/lib/python3.6/dist-packages (2.0.1)\n",
            "Requirement already satisfied: grpc-google-iam-v1<0.13dev,>=0.12.3 in /usr/local/lib/python3.6/dist-packages (from google-cloud-iot) (0.12.3)\n",
            "Requirement already satisfied: proto-plus>=1.4.0 in /usr/local/lib/python3.6/dist-packages (from google-cloud-iot) (1.10.1)\n",
            "Requirement already satisfied: google-api-core[grpc]<2.0.0dev,>=1.22.0 in /usr/local/lib/python3.6/dist-packages (from google-cloud-iot) (1.22.4)\n",
            "Requirement already satisfied: libcst>=0.2.5 in /usr/local/lib/python3.6/dist-packages (from google-cloud-iot) (0.3.12)\n",
            "Requirement already satisfied: googleapis-common-protos[grpc]<2.0.0dev,>=1.5.2 in /usr/local/lib/python3.6/dist-packages (from grpc-google-iam-v1<0.13dev,>=0.12.3->google-cloud-iot) (1.52.0)\n",
            "Requirement already satisfied: grpcio<2.0.0dev,>=1.0.0 in /usr/local/lib/python3.6/dist-packages (from grpc-google-iam-v1<0.13dev,>=0.12.3->google-cloud-iot) (1.32.0)\n",
            "Requirement already satisfied: protobuf>=3.12.0 in /usr/local/lib/python3.6/dist-packages (from proto-plus>=1.4.0->google-cloud-iot) (3.12.4)\n",
            "Requirement already satisfied: setuptools>=34.0.0 in /usr/local/lib/python3.6/dist-packages (from google-api-core[grpc]<2.0.0dev,>=1.22.0->google-cloud-iot) (50.3.0)\n",
            "Requirement already satisfied: six>=1.13.0 in /usr/local/lib/python3.6/dist-packages (from google-api-core[grpc]<2.0.0dev,>=1.22.0->google-cloud-iot) (1.15.0)\n",
            "Requirement already satisfied: google-auth<2.0dev,>=1.21.1 in /usr/local/lib/python3.6/dist-packages (from google-api-core[grpc]<2.0.0dev,>=1.22.0->google-cloud-iot) (1.22.1)\n",
            "Requirement already satisfied: pytz in /usr/local/lib/python3.6/dist-packages (from google-api-core[grpc]<2.0.0dev,>=1.22.0->google-cloud-iot) (2018.9)\n",
            "Requirement already satisfied: requests<3.0.0dev,>=2.18.0 in /usr/local/lib/python3.6/dist-packages (from google-api-core[grpc]<2.0.0dev,>=1.22.0->google-cloud-iot) (2.23.0)\n",
            "Requirement already satisfied: dataclasses>=0.6.0; python_version < \"3.7\" in /usr/local/lib/python3.6/dist-packages (from libcst>=0.2.5->google-cloud-iot) (0.7)\n",
            "Requirement already satisfied: typing-inspect>=0.4.0 in /usr/local/lib/python3.6/dist-packages (from libcst>=0.2.5->google-cloud-iot) (0.6.0)\n",
            "Requirement already satisfied: pyyaml>=5.2 in /usr/local/lib/python3.6/dist-packages (from libcst>=0.2.5->google-cloud-iot) (5.3.1)\n",
            "Requirement already satisfied: typing-extensions>=3.7.4.2 in /usr/local/lib/python3.6/dist-packages (from libcst>=0.2.5->google-cloud-iot) (3.7.4.3)\n",
            "Requirement already satisfied: cachetools<5.0,>=2.0.0 in /usr/local/lib/python3.6/dist-packages (from google-auth<2.0dev,>=1.21.1->google-api-core[grpc]<2.0.0dev,>=1.22.0->google-cloud-iot) (4.1.1)\n",
            "Requirement already satisfied: pyasn1-modules>=0.2.1 in /usr/local/lib/python3.6/dist-packages (from google-auth<2.0dev,>=1.21.1->google-api-core[grpc]<2.0.0dev,>=1.22.0->google-cloud-iot) (0.2.8)\n",
            "Requirement already satisfied: rsa<5,>=3.1.4; python_version >= \"3.5\" in /usr/local/lib/python3.6/dist-packages (from google-auth<2.0dev,>=1.21.1->google-api-core[grpc]<2.0.0dev,>=1.22.0->google-cloud-iot) (4.6)\n",
            "Requirement already satisfied: idna<3,>=2.5 in /usr/local/lib/python3.6/dist-packages (from requests<3.0.0dev,>=2.18.0->google-api-core[grpc]<2.0.0dev,>=1.22.0->google-cloud-iot) (2.10)\n",
            "Requirement already satisfied: chardet<4,>=3.0.2 in /usr/local/lib/python3.6/dist-packages (from requests<3.0.0dev,>=2.18.0->google-api-core[grpc]<2.0.0dev,>=1.22.0->google-cloud-iot) (3.0.4)\n",
            "Requirement already satisfied: urllib3!=1.25.0,!=1.25.1,<1.26,>=1.21.1 in /usr/local/lib/python3.6/dist-packages (from requests<3.0.0dev,>=2.18.0->google-api-core[grpc]<2.0.0dev,>=1.22.0->google-cloud-iot) (1.24.3)\n",
            "Requirement already satisfied: certifi>=2017.4.17 in /usr/local/lib/python3.6/dist-packages (from requests<3.0.0dev,>=2.18.0->google-api-core[grpc]<2.0.0dev,>=1.22.0->google-cloud-iot) (2020.6.20)\n",
            "Requirement already satisfied: mypy-extensions>=0.3.0 in /usr/local/lib/python3.6/dist-packages (from typing-inspect>=0.4.0->libcst>=0.2.5->google-cloud-iot) (0.4.3)\n",
            "Requirement already satisfied: pyasn1<0.5.0,>=0.4.6 in /usr/local/lib/python3.6/dist-packages (from pyasn1-modules>=0.2.1->google-auth<2.0dev,>=1.21.1->google-api-core[grpc]<2.0.0dev,>=1.22.0->google-cloud-iot) (0.4.8)\n"
          ],
          "name": "stdout"
        }
      ]
    },
    {
      "cell_type": "code",
      "metadata": {
        "id": "8-aLBvOAan_g",
        "outputId": "1d1ee282-4413-40af-c306-18bf20ad02c3",
        "colab": {
          "base_uri": "https://localhost:8080/",
          "height": 196
        }
      },
      "source": [
        "!pip install google-api-python-client"
      ],
      "execution_count": null,
      "outputs": [
        {
          "output_type": "stream",
          "text": [
            "Requirement already satisfied: google-api-python-client in /usr/local/lib/python3.6/dist-packages (1.7.12)\n",
            "Requirement already satisfied: uritemplate<4dev,>=3.0.0 in /usr/local/lib/python3.6/dist-packages (from google-api-python-client) (3.0.1)\n",
            "Requirement already satisfied: six<2dev,>=1.6.1 in /usr/local/lib/python3.6/dist-packages (from google-api-python-client) (1.15.0)\n",
            "Requirement already satisfied: google-auth-httplib2>=0.0.3 in /usr/local/lib/python3.6/dist-packages (from google-api-python-client) (0.0.4)\n",
            "Requirement already satisfied: google-auth>=1.4.1 in /usr/local/lib/python3.6/dist-packages (from google-api-python-client) (1.22.1)\n",
            "Requirement already satisfied: httplib2<1dev,>=0.17.0 in /usr/local/lib/python3.6/dist-packages (from google-api-python-client) (0.17.4)\n",
            "Requirement already satisfied: setuptools>=40.3.0 in /usr/local/lib/python3.6/dist-packages (from google-auth>=1.4.1->google-api-python-client) (50.3.0)\n",
            "Requirement already satisfied: rsa<5,>=3.1.4; python_version >= \"3.5\" in /usr/local/lib/python3.6/dist-packages (from google-auth>=1.4.1->google-api-python-client) (4.6)\n",
            "Requirement already satisfied: pyasn1-modules>=0.2.1 in /usr/local/lib/python3.6/dist-packages (from google-auth>=1.4.1->google-api-python-client) (0.2.8)\n",
            "Requirement already satisfied: cachetools<5.0,>=2.0.0 in /usr/local/lib/python3.6/dist-packages (from google-auth>=1.4.1->google-api-python-client) (4.1.1)\n",
            "Requirement already satisfied: pyasn1>=0.1.3 in /usr/local/lib/python3.6/dist-packages (from rsa<5,>=3.1.4; python_version >= \"3.5\"->google-auth>=1.4.1->google-api-python-client) (0.4.8)\n"
          ],
          "name": "stdout"
        }
      ]
    },
    {
      "cell_type": "code",
      "metadata": {
        "id": "BmryKIkjnQ_y",
        "outputId": "744ede8a-b4ec-4391-80c3-6e238e58dee7",
        "colab": {
          "base_uri": "https://localhost:8080/",
          "height": 346
        }
      },
      "source": [
        "!pip install google-cloud-storage"
      ],
      "execution_count": null,
      "outputs": [
        {
          "output_type": "stream",
          "text": [
            "Requirement already satisfied: google-cloud-storage in /usr/local/lib/python3.6/dist-packages (1.18.1)\n",
            "Requirement already satisfied: google-auth>=1.2.0 in /usr/local/lib/python3.6/dist-packages (from google-cloud-storage) (1.22.1)\n",
            "Requirement already satisfied: google-resumable-media<0.5.0dev,>=0.3.1 in /usr/local/lib/python3.6/dist-packages (from google-cloud-storage) (0.4.1)\n",
            "Requirement already satisfied: google-cloud-core<2.0dev,>=1.0.0 in /usr/local/lib/python3.6/dist-packages (from google-cloud-storage) (1.0.3)\n",
            "Requirement already satisfied: six>=1.9.0 in /usr/local/lib/python3.6/dist-packages (from google-auth>=1.2.0->google-cloud-storage) (1.15.0)\n",
            "Requirement already satisfied: setuptools>=40.3.0 in /usr/local/lib/python3.6/dist-packages (from google-auth>=1.2.0->google-cloud-storage) (50.3.0)\n",
            "Requirement already satisfied: cachetools<5.0,>=2.0.0 in /usr/local/lib/python3.6/dist-packages (from google-auth>=1.2.0->google-cloud-storage) (4.1.1)\n",
            "Requirement already satisfied: pyasn1-modules>=0.2.1 in /usr/local/lib/python3.6/dist-packages (from google-auth>=1.2.0->google-cloud-storage) (0.2.8)\n",
            "Requirement already satisfied: rsa<5,>=3.1.4; python_version >= \"3.5\" in /usr/local/lib/python3.6/dist-packages (from google-auth>=1.2.0->google-cloud-storage) (4.6)\n",
            "Requirement already satisfied: google-api-core<2.0.0dev,>=1.14.0 in /usr/local/lib/python3.6/dist-packages (from google-cloud-core<2.0dev,>=1.0.0->google-cloud-storage) (1.22.4)\n",
            "Requirement already satisfied: pyasn1<0.5.0,>=0.4.6 in /usr/local/lib/python3.6/dist-packages (from pyasn1-modules>=0.2.1->google-auth>=1.2.0->google-cloud-storage) (0.4.8)\n",
            "Requirement already satisfied: pytz in /usr/local/lib/python3.6/dist-packages (from google-api-core<2.0.0dev,>=1.14.0->google-cloud-core<2.0dev,>=1.0.0->google-cloud-storage) (2018.9)\n",
            "Requirement already satisfied: requests<3.0.0dev,>=2.18.0 in /usr/local/lib/python3.6/dist-packages (from google-api-core<2.0.0dev,>=1.14.0->google-cloud-core<2.0dev,>=1.0.0->google-cloud-storage) (2.23.0)\n",
            "Requirement already satisfied: protobuf>=3.12.0 in /usr/local/lib/python3.6/dist-packages (from google-api-core<2.0.0dev,>=1.14.0->google-cloud-core<2.0dev,>=1.0.0->google-cloud-storage) (3.12.4)\n",
            "Requirement already satisfied: googleapis-common-protos<2.0dev,>=1.6.0 in /usr/local/lib/python3.6/dist-packages (from google-api-core<2.0.0dev,>=1.14.0->google-cloud-core<2.0dev,>=1.0.0->google-cloud-storage) (1.52.0)\n",
            "Requirement already satisfied: chardet<4,>=3.0.2 in /usr/local/lib/python3.6/dist-packages (from requests<3.0.0dev,>=2.18.0->google-api-core<2.0.0dev,>=1.14.0->google-cloud-core<2.0dev,>=1.0.0->google-cloud-storage) (3.0.4)\n",
            "Requirement already satisfied: idna<3,>=2.5 in /usr/local/lib/python3.6/dist-packages (from requests<3.0.0dev,>=2.18.0->google-api-core<2.0.0dev,>=1.14.0->google-cloud-core<2.0dev,>=1.0.0->google-cloud-storage) (2.10)\n",
            "Requirement already satisfied: certifi>=2017.4.17 in /usr/local/lib/python3.6/dist-packages (from requests<3.0.0dev,>=2.18.0->google-api-core<2.0.0dev,>=1.14.0->google-cloud-core<2.0dev,>=1.0.0->google-cloud-storage) (2020.6.20)\n",
            "Requirement already satisfied: urllib3!=1.25.0,!=1.25.1,<1.26,>=1.21.1 in /usr/local/lib/python3.6/dist-packages (from requests<3.0.0dev,>=2.18.0->google-api-core<2.0.0dev,>=1.14.0->google-cloud-core<2.0dev,>=1.0.0->google-cloud-storage) (1.24.3)\n"
          ],
          "name": "stdout"
        }
      ]
    },
    {
      "cell_type": "code",
      "metadata": {
        "id": "b9pAWRSsbynN",
        "outputId": "73fe1fd0-a5c5-43bf-8ce3-05c49a350a06",
        "colab": {
          "base_uri": "https://localhost:8080/",
          "height": 115
        }
      },
      "source": [
        "!pip install cryptography pyjwt paho-mqtt "
      ],
      "execution_count": null,
      "outputs": [
        {
          "output_type": "stream",
          "text": [
            "Requirement already satisfied: cryptography in /usr/local/lib/python3.6/dist-packages (3.1.1)\n",
            "Requirement already satisfied: pyjwt in /usr/local/lib/python3.6/dist-packages (1.7.1)\n",
            "Requirement already satisfied: paho-mqtt in /usr/local/lib/python3.6/dist-packages (1.5.1)\n",
            "Requirement already satisfied: six>=1.4.1 in /usr/local/lib/python3.6/dist-packages (from cryptography) (1.15.0)\n",
            "Requirement already satisfied: cffi!=1.11.3,>=1.8 in /usr/local/lib/python3.6/dist-packages (from cryptography) (1.14.3)\n",
            "Requirement already satisfied: pycparser in /usr/local/lib/python3.6/dist-packages (from cffi!=1.11.3,>=1.8->cryptography) (2.20)\n"
          ],
          "name": "stdout"
        }
      ]
    },
    {
      "cell_type": "code",
      "metadata": {
        "id": "g7Vns7V0cC9N"
      },
      "source": [
        "import paho.mqtt.client as mqtt\n",
        "import jwt\n",
        "import time\n",
        "import ssl\n",
        "import random\n",
        "import os\n",
        "import logging\n",
        "import datetime\n",
        "import argparse"
      ],
      "execution_count": null,
      "outputs": []
    },
    {
      "cell_type": "markdown",
      "metadata": {
        "id": "p1cM6ML0naRG"
      },
      "source": [
        "# Setup Google Cloud Client"
      ]
    },
    {
      "cell_type": "code",
      "metadata": {
        "id": "nivGmp_geTdJ"
      },
      "source": [
        "from google.colab import auth\n",
        "auth.authenticate_user()"
      ],
      "execution_count": null,
      "outputs": []
    },
    {
      "cell_type": "code",
      "metadata": {
        "id": "VCRLVnTseYhx",
        "outputId": "733da7bd-4623-4cd8-d5e3-23b68bd76ca8",
        "colab": {
          "base_uri": "https://localhost:8080/",
          "height": 196
        }
      },
      "source": [
        "!gcloud config list"
      ],
      "execution_count": null,
      "outputs": [
        {
          "output_type": "stream",
          "text": [
            "[component_manager]\n",
            "disable_update_check = True\n",
            "[compute]\n",
            "gce_metadata_read_timeout_sec = 0\n",
            "region = us-central1\n",
            "zone = us-central1a\n",
            "[core]\n",
            "account = leelaalekhya.vedula@sjsu.edu\n",
            "project = cmpeiot\n",
            "\n",
            "Your active configuration is: [default]\n"
          ],
          "name": "stdout"
        }
      ]
    },
    {
      "cell_type": "code",
      "metadata": {
        "id": "FY8uiFUOeyL2",
        "outputId": "5b112c8f-5d31-4754-9576-61ad61de9c63",
        "colab": {
          "base_uri": "https://localhost:8080/",
          "height": 33
        }
      },
      "source": [
        "!gcloud config set compute/region us-central1"
      ],
      "execution_count": null,
      "outputs": [
        {
          "output_type": "stream",
          "text": [
            "Updated property [compute/region].\n"
          ],
          "name": "stdout"
        }
      ]
    },
    {
      "cell_type": "code",
      "metadata": {
        "id": "Bb1T7BlDe4dC",
        "outputId": "00fd48e2-9abc-4e48-bf94-c02540e31b37",
        "colab": {
          "base_uri": "https://localhost:8080/",
          "height": 33
        }
      },
      "source": [
        "!gcloud config set compute/zone us-central1a"
      ],
      "execution_count": null,
      "outputs": [
        {
          "output_type": "stream",
          "text": [
            "Updated property [compute/zone].\n"
          ],
          "name": "stdout"
        }
      ]
    },
    {
      "cell_type": "code",
      "metadata": {
        "id": "yDPhneOvfCQv",
        "outputId": "6e1564e2-ebf4-4c55-b82d-f1a9b6d41de4",
        "colab": {
          "base_uri": "https://localhost:8080/",
          "height": 82
        }
      },
      "source": [
        "!gcloud config list project"
      ],
      "execution_count": null,
      "outputs": [
        {
          "output_type": "stream",
          "text": [
            "[core]\n",
            "project = cmpeiot\n",
            "\n",
            "Your active configuration is: [default]\n"
          ],
          "name": "stdout"
        }
      ]
    },
    {
      "cell_type": "code",
      "metadata": {
        "id": "O13_BY7wx-qK",
        "outputId": "f00c8577-077a-41f8-90b2-07575362af5a",
        "colab": {
          "base_uri": "https://localhost:8080/",
          "height": 33
        }
      },
      "source": [
        "!gcloud config set project 'cmpeiot'"
      ],
      "execution_count": null,
      "outputs": [
        {
          "output_type": "stream",
          "text": [
            "Updated property [core/project].\n"
          ],
          "name": "stdout"
        }
      ]
    },
    {
      "cell_type": "code",
      "metadata": {
        "id": "aqI7jnrze9Nj",
        "outputId": "82bd6a91-aaac-4d12-dabb-6174096089d6",
        "colab": {
          "base_uri": "https://localhost:8080/",
          "height": 33
        }
      },
      "source": [
        "!gcloud config set project 'cmpeiot'"
      ],
      "execution_count": null,
      "outputs": [
        {
          "output_type": "stream",
          "text": [
            "Updated property [core/project].\n"
          ],
          "name": "stdout"
        }
      ]
    },
    {
      "cell_type": "code",
      "metadata": {
        "id": "2mSK8qxV3r3s",
        "outputId": "8f543fff-345d-4e14-e4cd-b749385efeb4",
        "colab": {
          "base_uri": "https://localhost:8080/",
          "height": 82
        }
      },
      "source": [
        "!gcloud config list project"
      ],
      "execution_count": null,
      "outputs": [
        {
          "output_type": "stream",
          "text": [
            "[core]\n",
            "project = cmpeiot\n",
            "\n",
            "Your active configuration is: [default]\n"
          ],
          "name": "stdout"
        }
      ]
    },
    {
      "cell_type": "markdown",
      "metadata": {
        "id": "9Vmk0d1ma7pi"
      },
      "source": [
        "# Mount Google Drive"
      ]
    },
    {
      "cell_type": "code",
      "metadata": {
        "id": "JCtCfdQTa-L5",
        "outputId": "d3cc0c4d-fe03-4acf-bcee-aeac9c102566",
        "colab": {
          "base_uri": "https://localhost:8080/",
          "height": 33
        }
      },
      "source": [
        "from google.colab import drive\n",
        "import os\n",
        "drive.mount('/content/gdrive')"
      ],
      "execution_count": null,
      "outputs": [
        {
          "output_type": "stream",
          "text": [
            "Drive already mounted at /content/gdrive; to attempt to forcibly remount, call drive.mount(\"/content/gdrive\", force_remount=True).\n"
          ],
          "name": "stdout"
        }
      ]
    },
    {
      "cell_type": "markdown",
      "metadata": {
        "id": "NlTyhuIjv8tb"
      },
      "source": [
        "Create a service credentials, ref: https://cloud.google.com/storage/docs/reference/libraries#client-libraries-usage-nodejs"
      ]
    },
    {
      "cell_type": "code",
      "metadata": {
        "id": "hIFv1uYPpd-Z"
      },
      "source": [
        "myservicecredentials='/content/gdrive/\"My Drive\"/\"Colab Notebooks\"/Googlecerts'"
      ],
      "execution_count": null,
      "outputs": []
    },
    {
      "cell_type": "code",
      "metadata": {
        "id": "vyCjrVu6pqon",
        "outputId": "a2de87ca-6e52-4a42-a7fb-79e41b2697b2",
        "colab": {
          "base_uri": "https://localhost:8080/",
          "height": 33
        }
      },
      "source": [
        "!ls {myservicecredentials}"
      ],
      "execution_count": null,
      "outputs": [
        {
          "output_type": "stream",
          "text": [
            "cmpeiot-92ac83152fbc.json  iotdevicenew  roots.pem\n"
          ],
          "name": "stdout"
        }
      ]
    },
    {
      "cell_type": "code",
      "metadata": {
        "id": "XyvHZIsD-FhI",
        "outputId": "7e48c56e-64d7-42fa-fe9c-f77620b2eede",
        "colab": {
          "base_uri": "https://localhost:8080/",
          "height": 33
        }
      },
      "source": [
        "newdevicecredentials_path=os.path.join(myservicecredentials, 'iotdevicenew')\n",
        "!ls {newdevicecredentials_path}"
      ],
      "execution_count": null,
      "outputs": [
        {
          "output_type": "stream",
          "text": [
            "rsa_cert.pem  rsa_private.pem\n"
          ],
          "name": "stdout"
        }
      ]
    },
    {
      "cell_type": "code",
      "metadata": {
        "id": "m1l_-AdIp0tO"
      },
      "source": [
        "myservicecredentials_path=os.path.join(myservicecredentials, 'cmpeiot-92ac83152fbc.json')"
      ],
      "execution_count": null,
      "outputs": []
    },
    {
      "cell_type": "code",
      "metadata": {
        "id": "rcLXy7Vrqws1"
      },
      "source": [
        "!cp {myservicecredentials_path} . #copy to the local directory"
      ],
      "execution_count": null,
      "outputs": []
    },
    {
      "cell_type": "code",
      "metadata": {
        "id": "W5kTtO0y-Tgo"
      },
      "source": [
        "!cp -r {newdevicecredentials_path} ."
      ],
      "execution_count": null,
      "outputs": []
    },
    {
      "cell_type": "code",
      "metadata": {
        "id": "iHT-CbooH6VE"
      },
      "source": [
        "rootcredentials_path=os.path.join(myservicecredentials, 'roots.pem')\n",
        "!cp {rootcredentials_path} ."
      ],
      "execution_count": null,
      "outputs": []
    },
    {
      "cell_type": "code",
      "metadata": {
        "id": "FEjMsCPS-X-B",
        "outputId": "b437d987-a514-404c-e1ca-adbf18508112",
        "colab": {
          "base_uri": "https://localhost:8080/",
          "height": 50
        }
      },
      "source": [
        "!ls"
      ],
      "execution_count": null,
      "outputs": [
        {
          "output_type": "stream",
          "text": [
            "adc.json\t\t   gdrive\t roots.pem\n",
            "cmpeiot-92ac83152fbc.json  iotdevicenew  sample_data\n"
          ],
          "name": "stdout"
        }
      ]
    },
    {
      "cell_type": "code",
      "metadata": {
        "id": "d4XVMOm0qNRp"
      },
      "source": [
        "GOOGLE_APPLICATION_CREDENTIALS='./cmpeiot-92ac83152fbc.json'"
      ],
      "execution_count": null,
      "outputs": []
    },
    {
      "cell_type": "code",
      "metadata": {
        "id": "U-eJTWydqPjk",
        "outputId": "1cadd1ad-ec9e-4173-8b07-8b7f4713b6b2",
        "colab": {
          "base_uri": "https://localhost:8080/",
          "height": 33
        }
      },
      "source": [
        "!echo $GOOGLE_APPLICATION_CREDENTIALS"
      ],
      "execution_count": null,
      "outputs": [
        {
          "output_type": "stream",
          "text": [
            "./cmpeiot-92ac83152fbc.json\n"
          ],
          "name": "stdout"
        }
      ]
    },
    {
      "cell_type": "markdown",
      "metadata": {
        "id": "QQqGaEldcJFS"
      },
      "source": [
        "# Google IoT Defined functions"
      ]
    },
    {
      "cell_type": "code",
      "metadata": {
        "id": "NifkYik2cNxc"
      },
      "source": [
        "import paho.mqtt.client as mqtt\n",
        "import jwt\n",
        "import time\n",
        "import ssl\n",
        "import random\n",
        "import os\n",
        "import logging\n",
        "import datetime\n",
        "import argparse\n",
        "\n",
        "from google.cloud import storage"
      ],
      "execution_count": null,
      "outputs": []
    },
    {
      "cell_type": "code",
      "metadata": {
        "id": "afpn5sqY5YWR"
      },
      "source": [
        "# The initial backoff time after a disconnection occurs, in seconds.\n",
        "minimum_backoff_time = 1\n",
        "\n",
        "# The maximum backoff time before giving up, in seconds.\n",
        "MAXIMUM_BACKOFF_TIME = 32\n",
        "\n",
        "# Whether to wait with exponential backoff before publishing.\n",
        "should_backoff = False\n",
        "\n",
        "def create_jwt(project_id, private_key_file, algorithm):\n",
        "    \"\"\"Creates a JWT (https://jwt.io) to establish an MQTT connection.\n",
        "        Args:\n",
        "         project_id: The cloud project ID this device belongs to\n",
        "         private_key_file: A path to a file containing either an RSA256 or\n",
        "                 ES256 private key.\n",
        "         algorithm: The encryption algorithm to use. Either 'RS256' or 'ES256'\n",
        "        Returns:\n",
        "            A JWT generated from the given project_id and private key, which\n",
        "            expires in 20 minutes. After 20 minutes, your client will be\n",
        "            disconnected, and a new JWT will have to be generated.\n",
        "        Raises:\n",
        "            ValueError: If the private_key_file does not contain a known key.\n",
        "        \"\"\"\n",
        "\n",
        "    token = {\n",
        "        # The time that the token was issued at\n",
        "        'iat': datetime.datetime.utcnow(),\n",
        "        # The time the token expires.\n",
        "        'exp': datetime.datetime.utcnow() + datetime.timedelta(minutes=20),\n",
        "        # The audience field should always be set to the GCP project id.\n",
        "        'aud': project_id\n",
        "    }\n",
        "\n",
        "    # Read the private key file.\n",
        "    with open(private_key_file, 'r') as f:\n",
        "        private_key = f.read()\n",
        "\n",
        "    print('Creating JWT using {} from private key file {}'.format(\n",
        "        algorithm, private_key_file))\n",
        "\n",
        "    return jwt.encode(token, private_key, algorithm=algorithm)\n",
        "# [END iot_mqtt_jwt]"
      ],
      "execution_count": null,
      "outputs": []
    },
    {
      "cell_type": "code",
      "metadata": {
        "id": "c7CVNFJA5d22"
      },
      "source": [
        "def error_str(rc):\n",
        "    \"\"\"Convert a Paho error to a human readable string.\"\"\"\n",
        "    return '{}: {}'.format(rc, mqtt.error_string(rc))\n",
        "\n",
        "\n",
        "def on_connect(unused_client, unused_userdata, unused_flags, rc):\n",
        "    \"\"\"Callback for when a device connects.\"\"\"\n",
        "    print('on_connect', mqtt.connack_string(rc))\n",
        "\n",
        "    # After a successful connect, reset backoff time and stop backing off.\n",
        "    global should_backoff\n",
        "    global minimum_backoff_time\n",
        "    should_backoff = False\n",
        "    minimum_backoff_time = 1\n",
        "\n",
        "\n",
        "def on_disconnect(unused_client, unused_userdata, rc):\n",
        "    \"\"\"Paho callback for when a device disconnects.\"\"\"\n",
        "    print('on_disconnect', error_str(rc))\n",
        "\n",
        "    # Since a disconnect occurred, the next loop iteration will wait with\n",
        "    # exponential backoff.\n",
        "    global should_backoff\n",
        "    should_backoff = True\n",
        "\n",
        "\n",
        "def on_publish(unused_client, unused_userdata, unused_mid):\n",
        "    \"\"\"Paho callback when a message is sent to the broker.\"\"\"\n",
        "    print('on_publish')\n",
        "\n",
        "\n",
        "def on_message(unused_client, unused_userdata, message):\n",
        "    \"\"\"Callback when the device receives a message on a subscription.\"\"\"\n",
        "    payload = str(message.payload.decode('utf-8'))\n",
        "    print('Received message \\'{}\\' on topic \\'{}\\' with Qos {}'.format(\n",
        "        payload, message.topic, str(message.qos)))"
      ],
      "execution_count": null,
      "outputs": []
    },
    {
      "cell_type": "code",
      "metadata": {
        "id": "vFONbm3D5qjm"
      },
      "source": [
        "def get_client(\n",
        "        project_id, cloud_region, registry_id, device_id, private_key_file,\n",
        "        algorithm, ca_certs, mqtt_bridge_hostname, mqtt_bridge_port):\n",
        "    \"\"\"Create our MQTT client. The client_id is a unique string that identifies\n",
        "    this device. For Google Cloud IoT Core, it must be in the format below.\"\"\"\n",
        "    client_id = 'projects/{}/locations/{}/registries/{}/devices/{}'.format(\n",
        "        project_id, cloud_region, registry_id, device_id)\n",
        "    print('Device client_id is \\'{}\\''.format(client_id))\n",
        "\n",
        "    client = mqtt.Client(client_id=client_id)\n",
        "\n",
        "    # With Google Cloud IoT Core, the username field is ignored, and the\n",
        "    # password field is used to transmit a JWT to authorize the device.\n",
        "    client.username_pw_set(\n",
        "        username='unused',\n",
        "        password=create_jwt(\n",
        "            project_id, private_key_file, algorithm))\n",
        "\n",
        "    # Enable SSL/TLS support.\n",
        "    client.tls_set(ca_certs=ca_certs, tls_version=ssl.PROTOCOL_TLSv1_2)\n",
        "\n",
        "    # Register message callbacks. https://eclipse.org/paho/clients/python/docs/\n",
        "    # describes additional callbacks that Paho supports. In this example, the\n",
        "    # callbacks just print to standard out.\n",
        "    client.on_connect = on_connect\n",
        "    client.on_publish = on_publish\n",
        "    client.on_disconnect = on_disconnect\n",
        "    client.on_message = on_message\n",
        "\n",
        "    # Connect to the Google MQTT bridge.\n",
        "    client.connect(mqtt_bridge_hostname, mqtt_bridge_port)\n",
        "\n",
        "    # This is the topic that the device will receive configuration updates on.\n",
        "    mqtt_config_topic = '/devices/{}/config'.format(device_id)\n",
        "\n",
        "    # Subscribe to the config topic.\n",
        "    client.subscribe(mqtt_config_topic, qos=1)\n",
        "\n",
        "    # The topic that the device will receive commands on.\n",
        "    mqtt_command_topic = '/devices/{}/commands/#'.format(device_id)\n",
        "\n",
        "    # Subscribe to the commands topic, QoS 1 enables message acknowledgement.\n",
        "    print('Subscribing to {}'.format(mqtt_command_topic))\n",
        "    client.subscribe(mqtt_command_topic, qos=0)\n",
        "\n",
        "    return client\n",
        "# [END iot_mqtt_config]"
      ],
      "execution_count": null,
      "outputs": []
    },
    {
      "cell_type": "code",
      "metadata": {
        "id": "_pl0zLTUIFfI",
        "outputId": "e5e946c2-9d73-4bb5-bfcd-9fbd67658e99",
        "colab": {
          "base_uri": "https://localhost:8080/",
          "height": 50
        }
      },
      "source": [
        "!ls"
      ],
      "execution_count": null,
      "outputs": [
        {
          "output_type": "stream",
          "text": [
            "adc.json\t\t   gdrive\t roots.pem\n",
            "cmpeiot-92ac83152fbc.json  iotdevicenew  sample_data\n"
          ],
          "name": "stdout"
        }
      ]
    },
    {
      "cell_type": "code",
      "metadata": {
        "id": "WHqWQnRTIEq1"
      },
      "source": [
        "GOOGLE_APPLICATION_CREDENTIALS='./cmpeiot-92ac83152fbc.json'\n",
        "ROOT_CREDENTIALS='./roots.pem'"
      ],
      "execution_count": null,
      "outputs": []
    },
    {
      "cell_type": "code",
      "metadata": {
        "id": "5W_KynqJ6ge2"
      },
      "source": [
        "class Args:\n",
        "  algorithm = 'RS256'\n",
        "  ca_certs = '/content/roots.pem'\n",
        "  cloud_region = 'us-central1'\n",
        "  data = 'Hello there'\n",
        "  device_id = 'cmpeiotdevice2'\n",
        "  jwt_expires_minutes = 20\n",
        "  listen_dur = 60\n",
        "  message_type = 'event'\n",
        "  mqtt_bridge_hostname = 'mqtt.googleapis.com'\n",
        "  mqtt_bridge_port = 8883\n",
        "  num_messages = 25\n",
        "  private_key_file = '/content/iotdevicenew/rsa_private.pem'#/content/gdrive/\"My Drive\"/CurrentWork/CMPE181Sp2020/Googlecerts/cmpe181dev1/rsa_private.pem'\n",
        "  project_id = 'cmpeiot'\n",
        "  registry_id = 'CMPEIoT1'\n",
        "  service_account_json = '/content/cmpeiot-92ac83152fbc.json'#os.environ.get(\"GOOGLE_APPLICATION_CREDENTIALS\")\n",
        "  imagefolder_path= './data'\n",
        "\n",
        "\n",
        "args=Args()"
      ],
      "execution_count": null,
      "outputs": []
    },
    {
      "cell_type": "code",
      "metadata": {
        "id": "PFseNuwC8jPx",
        "outputId": "6726e895-b236-4ccc-f47d-c63a53c62dd1",
        "colab": {
          "base_uri": "https://localhost:8080/",
          "height": 33
        }
      },
      "source": [
        "print(args.private_key_file)"
      ],
      "execution_count": null,
      "outputs": [
        {
          "output_type": "stream",
          "text": [
            "/content/iotdevicenew/rsa_private.pem\n"
          ],
          "name": "stdout"
        }
      ]
    },
    {
      "cell_type": "code",
      "metadata": {
        "id": "sy2qfZSa5r6h"
      },
      "source": [
        "\n",
        "def parse_command_line_args():\n",
        "    \"\"\"Parse command line arguments.\"\"\"\n",
        "    parser = argparse.ArgumentParser(description=(\n",
        "        'Example Google Cloud IoT Core MQTT device connection code.'))\n",
        "    parser.add_argument(\n",
        "        '--algorithm',\n",
        "        choices=('RS256', 'ES256'),\n",
        "        required=True,\n",
        "        help='Which encryption algorithm to use to generate the JWT.')\n",
        "    parser.add_argument(\n",
        "        '--ca_certs',\n",
        "        default='./roots.pem',\n",
        "        help='CA root from https://pki.google.com/roots.pem')\n",
        "    parser.add_argument(\n",
        "        '--cloud_region', default='us-central1', help='GCP cloud region')\n",
        "    parser.add_argument(\n",
        "        '--data',\n",
        "        default='Hello there',\n",
        "        help='The telemetry data sent on behalf of a device')\n",
        "    parser.add_argument(\n",
        "        '--device_id', required=True, help='Cloud IoT Core device id')\n",
        "    parser.add_argument(\n",
        "        '--gateway_id', required=False, help='Gateway identifier.')\n",
        "    parser.add_argument(\n",
        "        '--jwt_expires_minutes',\n",
        "        default=20,\n",
        "        type=int,\n",
        "        help='Expiration time, in minutes, for JWT tokens.')\n",
        "    parser.add_argument(\n",
        "        '--listen_dur',\n",
        "        default=60,\n",
        "        type=int,\n",
        "        help='Duration (seconds) to listen for configuration messages')\n",
        "    parser.add_argument(\n",
        "        '--message_type',\n",
        "        choices=('event', 'state'),\n",
        "        default='event',\n",
        "        help=('Indicates whether the message to be published is a '\n",
        "              'telemetry event or a device state message.'))\n",
        "    parser.add_argument(\n",
        "        '--mqtt_bridge_hostname',\n",
        "        default='mqtt.googleapis.com',\n",
        "        help='MQTT bridge hostname.')\n",
        "    parser.add_argument(\n",
        "        '--mqtt_bridge_port',\n",
        "        choices=(8883, 443),\n",
        "        default=8883,\n",
        "        type=int,\n",
        "        help='MQTT bridge port.')\n",
        "    parser.add_argument(\n",
        "        '--num_messages',\n",
        "        type=int,\n",
        "        default=100,\n",
        "        help='Number of messages to publish.')\n",
        "    parser.add_argument(\n",
        "        '--private_key_file',\n",
        "        required=True,\n",
        "        help='Path to private key file.')\n",
        "    parser.add_argument(\n",
        "        '--project_id',\n",
        "        default=os.environ.get('GOOGLE_CLOUD_PROJECT'),\n",
        "        help='GCP cloud project name')\n",
        "    parser.add_argument(\n",
        "        '--registry_id', required=True, help='Cloud IoT Core registry id')\n",
        "    parser.add_argument(\n",
        "        '--service_account_json',\n",
        "        default=os.environ.get(\"GOOGLE_APPLICATION_CREDENTIALS\"),\n",
        "        help='Path to service account json file.')\n",
        "\n",
        "    return parser.parse_args()\n",
        "\n",
        "\n"
      ],
      "execution_count": null,
      "outputs": []
    },
    {
      "cell_type": "code",
      "metadata": {
        "id": "woDB9zjMKM83"
      },
      "source": [
        "import random\n",
        "import time\n",
        "import datetime\n",
        "import json\n",
        "\n",
        "def read_sensor(count):\n",
        "    tempF = 20 + 0.2*count + (random.random() * 15)\n",
        "    humidity = 60 + 0.3*count+ (random.random() * 20)\n",
        "    temp = '{0:0.2f}'.format(tempF)\n",
        "    hum = '{0:0.2f}'.format(humidity)\n",
        "    sensorZipCode = 95192#\"94043\"\n",
        "    sensorLat = 37.3382082+ (random.random() /100)#\"37.421655\"\n",
        "    sensorLong = -121.8863286 + (random.random() /100)#\"-122.085637\"\n",
        "    sensorLatf = '{0:0.6f}'.format(sensorLat)\n",
        "    sensorLongf = '{0:0.6f}'.format(sensorLong)\n",
        "    return (temp, hum, sensorZipCode, sensorLatf, sensorLongf)\n",
        "\n",
        "def createJSON(reg_id, dev_id, timestamp, zip, lat, long, temperature, humidity):\n",
        "    data = {\n",
        "      'registry_id' : reg_id,\n",
        "      'device_id' : dev_id,\n",
        "      'timecollected' : timestamp,\n",
        "      'zipcode' : zip,\n",
        "      'latitude' : lat,\n",
        "      'longitude' : long,\n",
        "      'temperature' : temperature,\n",
        "      'humidity' : humidity,\n",
        "      # 'image_file' : img_file\n",
        "    }\n",
        "\n",
        "    json_str = json.dumps(data)\n",
        "    return json_str\n"
      ],
      "execution_count": null,
      "outputs": []
    },
    {
      "cell_type": "code",
      "metadata": {
        "id": "SR7aXvQRFYtW"
      },
      "source": [
        "def mqtt_device_demo(args):\n",
        "    \"\"\"Connects a device, sends data, and receives data.\"\"\"\n",
        "    # [START iot_mqtt_run]\n",
        "    global minimum_backoff_time\n",
        "    global MAXIMUM_BACKOFF_TIME\n",
        "\n",
        "    # Publish to the events or state topic based on the flag.\n",
        "    sub_topic = 'events' if args.message_type == 'event' else 'state'\n",
        "\n",
        "    mqtt_topic = '/devices/{}/{}'.format(args.device_id, sub_topic)\n",
        "\n",
        "    jwt_iat = datetime.datetime.utcnow()\n",
        "    jwt_exp_mins = args.jwt_expires_minutes\n",
        "    client = get_client(\n",
        "        args.project_id, args.cloud_region, args.registry_id,\n",
        "        args.device_id, args.private_key_file, args.algorithm,\n",
        "        args.ca_certs, args.mqtt_bridge_hostname, args.mqtt_bridge_port)\n",
        "\n",
        "    # Publish num_messages messages to the MQTT bridge once per second.\n",
        "    for i in range(1, args.num_messages + 1):\n",
        "        # Process network events.\n",
        "        client.loop()\n",
        "        currentTime = str(datetime.datetime.utcnow().strftime('%Y-%m-%d %H:%M:%S'))\n",
        "        (temp, hum, sensorZipCode, sensorLat, sensorLong) = read_sensor(i)\n",
        "            #(id, timestamp, zip, lat, long, temperature, humidity, img_file)\n",
        "        payloadJSON = createJSON(args.registry_id, args.device_id, currentTime, sensorZipCode, sensorLat, sensorLong, temp, hum)\n",
        "\n",
        "            #payload = '{}/{}-image-{}'.format(args.registry_id, args.device_id, i)\n",
        "        print('Publishing message {}/: \\'{}\\''.format(i, payloadJSON))\n",
        "        \n",
        "\n",
        "        # Wait if backoff is required.\n",
        "        if should_backoff:\n",
        "            # If backoff time is too large, give up.\n",
        "            if minimum_backoff_time > MAXIMUM_BACKOFF_TIME:\n",
        "                print('Exceeded maximum backoff time. Giving up.')\n",
        "                break\n",
        "\n",
        "            # Otherwise, wait and connect again.\n",
        "            delay = minimum_backoff_time + random.randint(0, 1000) / 1000.0\n",
        "            print('Waiting for {} before reconnecting.'.format(delay))\n",
        "            time.sleep(delay)\n",
        "            minimum_backoff_time *= 2\n",
        "            client.connect(args.mqtt_bridge_hostname, args.mqtt_bridge_port)\n",
        "\n",
        "        payload = '{}/{}-payload-{}'.format(\n",
        "            args.registry_id, args.device_id, i)\n",
        "        print('Publishing message {}/{}: \\'{}\\''.format(\n",
        "            i, args.num_messages, payload))\n",
        "        # [START iot_mqtt_jwt_refresh]\n",
        "        seconds_since_issue = (datetime.datetime.utcnow() - jwt_iat).seconds\n",
        "        if seconds_since_issue > 60 * jwt_exp_mins:\n",
        "            print('Refreshing token after {}s'.format(seconds_since_issue))\n",
        "            jwt_iat = datetime.datetime.utcnow()\n",
        "            client.loop()\n",
        "           \n",
        "            client.disconnect()\n",
        "            client = get_client(\n",
        "                args.project_id, args.cloud_region,\n",
        "                args.registry_id, args.device_id, args.private_key_file,\n",
        "                args.algorithm, args.ca_certs, args.mqtt_bridge_hostname,\n",
        "                args.mqtt_bridge_port)\n",
        "        # [END iot_mqtt_jwt_refresh]\n",
        "        # Publish \"payload\" to the MQTT topic. qos=1 means at least once\n",
        "        # delivery. Cloud IoT Core also supports qos=0 for at most once\n",
        "        # delivery.\n",
        "        client.publish(mqtt_topic, payloadJSON, qos=1)\n",
        "\n",
        "\n",
        "\n",
        "        \n",
        "        # Send events every second. State should not be updated as often\n",
        "        time.sleep(1)\n",
        "        # for i in range(0, 60):\n",
        "        #     time.sleep(1)\n",
        "        #     client.loop()\n",
        "    # [END iot_mqtt_run]"
      ],
      "execution_count": null,
      "outputs": []
    },
    {
      "cell_type": "code",
      "metadata": {
        "id": "d_ipYqvp8JY8",
        "outputId": "99c55da8-50a0-4816-9467-a414e649f55b",
        "colab": {
          "base_uri": "https://localhost:8080/",
          "height": 1000
        }
      },
      "source": [
        "mqtt_device_demo(args)\n"
      ],
      "execution_count": null,
      "outputs": [
        {
          "output_type": "stream",
          "text": [
            "Device client_id is 'projects/cmpeiot/locations/us-central1/registries/CMPEIoT1/devices/cmpeiotdevice2'\n",
            "Creating JWT using RS256 from private key file /content/iotdevicenew/rsa_private.pem\n",
            "Subscribing to /devices/cmpeiotdevice2/commands/#\n",
            "Publishing message 1/: '{\"registry_id\": \"CMPEIoT1\", \"device_id\": \"cmpeiotdevice2\", \"timecollected\": \"2020-10-11 04:23:26\", \"zipcode\": 95192, \"latitude\": \"37.340980\", \"longitude\": \"-121.885958\", \"temperature\": \"32.72\", \"humidity\": \"67.18\"}'\n",
            "Publishing message 1/25: 'CMPEIoT1/cmpeiotdevice2-payload-1'\n",
            "on_connect Connection Accepted.\n",
            "Publishing message 2/: '{\"registry_id\": \"CMPEIoT1\", \"device_id\": \"cmpeiotdevice2\", \"timecollected\": \"2020-10-11 04:23:27\", \"zipcode\": 95192, \"latitude\": \"37.344453\", \"longitude\": \"-121.883747\", \"temperature\": \"22.36\", \"humidity\": \"72.90\"}'\n",
            "Publishing message 2/25: 'CMPEIoT1/cmpeiotdevice2-payload-2'\n",
            "Publishing message 3/: '{\"registry_id\": \"CMPEIoT1\", \"device_id\": \"cmpeiotdevice2\", \"timecollected\": \"2020-10-11 04:23:28\", \"zipcode\": 95192, \"latitude\": \"37.342311\", \"longitude\": \"-121.877569\", \"temperature\": \"25.79\", \"humidity\": \"64.72\"}'\n",
            "Publishing message 3/25: 'CMPEIoT1/cmpeiotdevice2-payload-3'\n",
            "Received message '' on topic '/devices/cmpeiotdevice2/config' with Qos 1\n",
            "on_publish\n",
            "on_publish\n",
            "Publishing message 4/: '{\"registry_id\": \"CMPEIoT1\", \"device_id\": \"cmpeiotdevice2\", \"timecollected\": \"2020-10-11 04:23:29\", \"zipcode\": 95192, \"latitude\": \"37.346675\", \"longitude\": \"-121.881195\", \"temperature\": \"29.96\", \"humidity\": \"64.19\"}'\n",
            "Publishing message 4/25: 'CMPEIoT1/cmpeiotdevice2-payload-4'\n",
            "on_publish\n",
            "on_publish\n",
            "Publishing message 5/: '{\"registry_id\": \"CMPEIoT1\", \"device_id\": \"cmpeiotdevice2\", \"timecollected\": \"2020-10-11 04:23:31\", \"zipcode\": 95192, \"latitude\": \"37.342960\", \"longitude\": \"-121.881922\", \"temperature\": \"22.46\", \"humidity\": \"72.15\"}'\n",
            "Publishing message 5/25: 'CMPEIoT1/cmpeiotdevice2-payload-5'\n",
            "on_publish\n",
            "Publishing message 6/: '{\"registry_id\": \"CMPEIoT1\", \"device_id\": \"cmpeiotdevice2\", \"timecollected\": \"2020-10-11 04:23:32\", \"zipcode\": 95192, \"latitude\": \"37.338594\", \"longitude\": \"-121.879505\", \"temperature\": \"29.37\", \"humidity\": \"71.05\"}'\n",
            "Publishing message 6/25: 'CMPEIoT1/cmpeiotdevice2-payload-6'\n",
            "on_publish\n",
            "Publishing message 7/: '{\"registry_id\": \"CMPEIoT1\", \"device_id\": \"cmpeiotdevice2\", \"timecollected\": \"2020-10-11 04:23:33\", \"zipcode\": 95192, \"latitude\": \"37.346688\", \"longitude\": \"-121.885817\", \"temperature\": \"22.21\", \"humidity\": \"67.14\"}'\n",
            "Publishing message 7/25: 'CMPEIoT1/cmpeiotdevice2-payload-7'\n",
            "on_publish\n",
            "Publishing message 8/: '{\"registry_id\": \"CMPEIoT1\", \"device_id\": \"cmpeiotdevice2\", \"timecollected\": \"2020-10-11 04:23:34\", \"zipcode\": 95192, \"latitude\": \"37.346597\", \"longitude\": \"-121.879126\", \"temperature\": \"29.34\", \"humidity\": \"75.10\"}'\n",
            "Publishing message 8/25: 'CMPEIoT1/cmpeiotdevice2-payload-8'\n",
            "on_publish\n",
            "Publishing message 9/: '{\"registry_id\": \"CMPEIoT1\", \"device_id\": \"cmpeiotdevice2\", \"timecollected\": \"2020-10-11 04:23:35\", \"zipcode\": 95192, \"latitude\": \"37.347488\", \"longitude\": \"-121.877800\", \"temperature\": \"24.26\", \"humidity\": \"63.67\"}'\n",
            "Publishing message 9/25: 'CMPEIoT1/cmpeiotdevice2-payload-9'\n",
            "on_publish\n",
            "Publishing message 10/: '{\"registry_id\": \"CMPEIoT1\", \"device_id\": \"cmpeiotdevice2\", \"timecollected\": \"2020-10-11 04:23:36\", \"zipcode\": 95192, \"latitude\": \"37.347166\", \"longitude\": \"-121.877906\", \"temperature\": \"33.96\", \"humidity\": \"82.58\"}'\n",
            "Publishing message 10/25: 'CMPEIoT1/cmpeiotdevice2-payload-10'\n",
            "on_publish\n",
            "Publishing message 11/: '{\"registry_id\": \"CMPEIoT1\", \"device_id\": \"cmpeiotdevice2\", \"timecollected\": \"2020-10-11 04:23:37\", \"zipcode\": 95192, \"latitude\": \"37.347439\", \"longitude\": \"-121.878378\", \"temperature\": \"25.26\", \"humidity\": \"67.86\"}'\n",
            "Publishing message 11/25: 'CMPEIoT1/cmpeiotdevice2-payload-11'\n",
            "on_publish\n",
            "Publishing message 12/: '{\"registry_id\": \"CMPEIoT1\", \"device_id\": \"cmpeiotdevice2\", \"timecollected\": \"2020-10-11 04:23:38\", \"zipcode\": 95192, \"latitude\": \"37.344145\", \"longitude\": \"-121.882768\", \"temperature\": \"30.18\", \"humidity\": \"75.09\"}'\n",
            "Publishing message 12/25: 'CMPEIoT1/cmpeiotdevice2-payload-12'\n",
            "on_publish\n",
            "Publishing message 13/: '{\"registry_id\": \"CMPEIoT1\", \"device_id\": \"cmpeiotdevice2\", \"timecollected\": \"2020-10-11 04:23:39\", \"zipcode\": 95192, \"latitude\": \"37.344780\", \"longitude\": \"-121.877688\", \"temperature\": \"23.10\", \"humidity\": \"69.76\"}'\n",
            "Publishing message 13/25: 'CMPEIoT1/cmpeiotdevice2-payload-13'\n",
            "on_publish\n",
            "Publishing message 14/: '{\"registry_id\": \"CMPEIoT1\", \"device_id\": \"cmpeiotdevice2\", \"timecollected\": \"2020-10-11 04:23:40\", \"zipcode\": 95192, \"latitude\": \"37.347131\", \"longitude\": \"-121.882993\", \"temperature\": \"35.04\", \"humidity\": \"67.83\"}'\n",
            "Publishing message 14/25: 'CMPEIoT1/cmpeiotdevice2-payload-14'\n",
            "on_publish\n",
            "Publishing message 15/: '{\"registry_id\": \"CMPEIoT1\", \"device_id\": \"cmpeiotdevice2\", \"timecollected\": \"2020-10-11 04:23:41\", \"zipcode\": 95192, \"latitude\": \"37.344924\", \"longitude\": \"-121.882013\", \"temperature\": \"31.68\", \"humidity\": \"79.28\"}'\n",
            "Publishing message 15/25: 'CMPEIoT1/cmpeiotdevice2-payload-15'\n",
            "on_publish\n",
            "Publishing message 16/: '{\"registry_id\": \"CMPEIoT1\", \"device_id\": \"cmpeiotdevice2\", \"timecollected\": \"2020-10-11 04:23:42\", \"zipcode\": 95192, \"latitude\": \"37.340453\", \"longitude\": \"-121.884884\", \"temperature\": \"28.46\", \"humidity\": \"70.60\"}'\n",
            "Publishing message 16/25: 'CMPEIoT1/cmpeiotdevice2-payload-16'\n",
            "on_publish\n",
            "Publishing message 17/: '{\"registry_id\": \"CMPEIoT1\", \"device_id\": \"cmpeiotdevice2\", \"timecollected\": \"2020-10-11 04:23:43\", \"zipcode\": 95192, \"latitude\": \"37.345949\", \"longitude\": \"-121.876929\", \"temperature\": \"30.06\", \"humidity\": \"73.71\"}'\n",
            "Publishing message 17/25: 'CMPEIoT1/cmpeiotdevice2-payload-17'\n",
            "on_publish\n",
            "Publishing message 18/: '{\"registry_id\": \"CMPEIoT1\", \"device_id\": \"cmpeiotdevice2\", \"timecollected\": \"2020-10-11 04:23:44\", \"zipcode\": 95192, \"latitude\": \"37.345493\", \"longitude\": \"-121.876884\", \"temperature\": \"34.94\", \"humidity\": \"69.04\"}'\n",
            "Publishing message 18/25: 'CMPEIoT1/cmpeiotdevice2-payload-18'\n",
            "on_publish\n",
            "Publishing message 19/: '{\"registry_id\": \"CMPEIoT1\", \"device_id\": \"cmpeiotdevice2\", \"timecollected\": \"2020-10-11 04:23:45\", \"zipcode\": 95192, \"latitude\": \"37.346801\", \"longitude\": \"-121.884787\", \"temperature\": \"26.06\", \"humidity\": \"67.38\"}'\n",
            "Publishing message 19/25: 'CMPEIoT1/cmpeiotdevice2-payload-19'\n",
            "on_publish\n",
            "Publishing message 20/: '{\"registry_id\": \"CMPEIoT1\", \"device_id\": \"cmpeiotdevice2\", \"timecollected\": \"2020-10-11 04:23:46\", \"zipcode\": 95192, \"latitude\": \"37.343219\", \"longitude\": \"-121.885849\", \"temperature\": \"26.09\", \"humidity\": \"79.42\"}'\n",
            "Publishing message 20/25: 'CMPEIoT1/cmpeiotdevice2-payload-20'\n",
            "on_publish\n",
            "Publishing message 21/: '{\"registry_id\": \"CMPEIoT1\", \"device_id\": \"cmpeiotdevice2\", \"timecollected\": \"2020-10-11 04:23:47\", \"zipcode\": 95192, \"latitude\": \"37.338361\", \"longitude\": \"-121.879446\", \"temperature\": \"34.14\", \"humidity\": \"79.24\"}'\n",
            "Publishing message 21/25: 'CMPEIoT1/cmpeiotdevice2-payload-21'\n",
            "on_publish\n",
            "Publishing message 22/: '{\"registry_id\": \"CMPEIoT1\", \"device_id\": \"cmpeiotdevice2\", \"timecollected\": \"2020-10-11 04:23:48\", \"zipcode\": 95192, \"latitude\": \"37.339201\", \"longitude\": \"-121.885199\", \"temperature\": \"32.07\", \"humidity\": \"86.13\"}'\n",
            "Publishing message 22/25: 'CMPEIoT1/cmpeiotdevice2-payload-22'\n",
            "on_publish\n",
            "Publishing message 23/: '{\"registry_id\": \"CMPEIoT1\", \"device_id\": \"cmpeiotdevice2\", \"timecollected\": \"2020-10-11 04:23:49\", \"zipcode\": 95192, \"latitude\": \"37.342369\", \"longitude\": \"-121.880552\", \"temperature\": \"29.99\", \"humidity\": \"78.84\"}'\n",
            "Publishing message 23/25: 'CMPEIoT1/cmpeiotdevice2-payload-23'\n",
            "Received message 'Testing Send Command successful' on topic '/devices/cmpeiotdevice2/commands' with Qos 0\n",
            "Publishing message 24/: '{\"registry_id\": \"CMPEIoT1\", \"device_id\": \"cmpeiotdevice2\", \"timecollected\": \"2020-10-11 04:23:50\", \"zipcode\": 95192, \"latitude\": \"37.341356\", \"longitude\": \"-121.882659\", \"temperature\": \"29.44\", \"humidity\": \"76.59\"}'\n",
            "Publishing message 24/25: 'CMPEIoT1/cmpeiotdevice2-payload-24'\n",
            "on_publish\n",
            "on_publish\n",
            "Publishing message 25/: '{\"registry_id\": \"CMPEIoT1\", \"device_id\": \"cmpeiotdevice2\", \"timecollected\": \"2020-10-11 04:23:51\", \"zipcode\": 95192, \"latitude\": \"37.339523\", \"longitude\": \"-121.877895\", \"temperature\": \"28.02\", \"humidity\": \"77.41\"}'\n",
            "Publishing message 25/25: 'CMPEIoT1/cmpeiotdevice2-payload-25'\n"
          ],
          "name": "stdout"
        }
      ]
    },
    {
      "cell_type": "code",
      "metadata": {
        "id": "Wauazb_qxce6",
        "outputId": "9e20d722-3ba3-42d8-c4ee-4d187bf221e2",
        "colab": {
          "base_uri": "https://localhost:8080/",
          "height": 33
        }
      },
      "source": [
        "print(args.imagefolder_path) #upload some images to this folder"
      ],
      "execution_count": null,
      "outputs": [
        {
          "output_type": "stream",
          "text": [
            "./data\n"
          ],
          "name": "stdout"
        }
      ]
    },
    {
      "cell_type": "markdown",
      "metadata": {
        "id": "LWv4QbjquBYK"
      },
      "source": [
        "Now data is sent from VM to pubsub. Check the data in pubsub and add it to firestore to make http calls and send to a web app using Rest API."
      ]
    }
  ]
}