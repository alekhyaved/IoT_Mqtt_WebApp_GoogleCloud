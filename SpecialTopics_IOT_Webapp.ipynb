{
  "nbformat": 4,
  "nbformat_minor": 0,
  "metadata": {
    "colab": {
      "name": "SpecialTopics_IOT_Webapp.ipynb",
      "provenance": [],
      "collapsed_sections": []
    },
    "kernelspec": {
      "name": "python3",
      "display_name": "Python 3"
    }
  },
  "cells": [
    {
      "cell_type": "markdown",
      "metadata": {
        "id": "KhemsD6Rtxk_"
      },
      "source": [
        "#**Emerging Technologies - Assignment**"
      ]
    },
    {
      "cell_type": "markdown",
      "metadata": {
        "id": "ikkjNLZqrB8B"
      },
      "source": [
        "**Area 1** : IoT and mobile devices with Google Cloud backend (or firebase): set the serverless backend for IoT (MQTT protocol) and mobile devices (iOS or Android HTTP REST API) with firestore db.\n",
        "\n",
        "**IoT (any VM, or Linux/Win/MacOS machine) and any mobile devices(web or phone)**: Here we are using Google Colab as VM and Web application as mobile device side.\n",
        "\n",
        "**Simulated application**: IoT device provide real-time sensor data via MQTT to the Cloud, mobile device can receive real-time updates or notification from the backend (REST API + Websocket or Notification), mobile device can also send command to the IoT device (e.g., set value), mobile device can fetch history data and plot the diagram (via REST API, draw the graph/diagram).\n",
        "\n",
        "Overview of steps followed for this project is as follows:\n",
        "\n",
        "* Using Google Colab as Virtual machine for Iot side  \n",
        "* Using a Google cloud function Rest API written in node js to send data from VM to  Google pubsub through MQTT protocol.\n",
        "* Sending the data from Google PubSub to Google Firestore using HTTP API.\n",
        "* Access data through a web app for GET, POST, PUT,DELETE operations.\n",
        "* Plotting graphs considering the historical data of temperature"
      ]
    },
    {
      "cell_type": "markdown",
      "metadata": {
        "id": "snpnAVHl3Jv0"
      },
      "source": [
        "# Install required packages \n",
        "Most of them are already installed in Colab"
      ]
    },
    {
      "cell_type": "code",
      "metadata": {
        "id": "8fFL43MdLtGX",
        "outputId": "cf4e36a6-6ff4-4abf-d939-24712f507e1e",
        "colab": {
          "base_uri": "https://localhost:8080/",
          "height": 1000
        }
      },
      "source": [
        "!pip install google-cloud-iot"
      ],
      "execution_count": 1,
      "outputs": [
        {
          "output_type": "stream",
          "text": [
            "Collecting google-cloud-iot\n",
            "\u001b[?25l  Downloading https://files.pythonhosted.org/packages/f3/6a/2a74aeebd6ac767da81102f2581f5c7d5396b9b975092927748b1f441e5d/google_cloud_iot-2.0.1-py2.py3-none-any.whl (68kB)\n",
            "\u001b[K     |████████████████████████████████| 71kB 2.0MB/s \n",
            "\u001b[?25hCollecting proto-plus>=1.4.0\n",
            "\u001b[?25l  Downloading https://files.pythonhosted.org/packages/6d/40/fa214d52454a62700d7f8718d42d237d6e8be2c4e21ddcd9535705b846f8/proto-plus-1.10.1.tar.gz (42kB)\n",
            "\u001b[K     |████████████████████████████████| 51kB 5.4MB/s \n",
            "\u001b[?25hCollecting grpc-google-iam-v1<0.13dev,>=0.12.3\n",
            "  Downloading https://files.pythonhosted.org/packages/65/19/2060c8faa325fddc09aa67af98ffcb6813f39a0ad805679fa64815362b3a/grpc-google-iam-v1-0.12.3.tar.gz\n",
            "Collecting google-api-core[grpc]<2.0.0dev,>=1.22.0\n",
            "\u001b[?25l  Downloading https://files.pythonhosted.org/packages/9f/52/e7720d652aeb7d514d3a2e62d263c8058f465beee2fc41260591c0fecc3a/google_api_core-1.22.4-py2.py3-none-any.whl (91kB)\n",
            "\u001b[K     |████████████████████████████████| 92kB 4.8MB/s \n",
            "\u001b[?25hCollecting libcst>=0.2.5\n",
            "\u001b[?25l  Downloading https://files.pythonhosted.org/packages/45/36/6bc3e3980faf635bd63d20d71c47ec61ed9bc3d363f2109af9ffd626dbde/libcst-0.3.12-py3-none-any.whl (501kB)\n",
            "\u001b[K     |████████████████████████████████| 501kB 24.4MB/s \n",
            "\u001b[?25hRequirement already satisfied: protobuf>=3.12.0 in /usr/local/lib/python3.6/dist-packages (from proto-plus>=1.4.0->google-cloud-iot) (3.12.4)\n",
            "Requirement already satisfied: grpcio<2.0.0dev,>=1.0.0 in /usr/local/lib/python3.6/dist-packages (from grpc-google-iam-v1<0.13dev,>=0.12.3->google-cloud-iot) (1.32.0)\n",
            "Requirement already satisfied: googleapis-common-protos[grpc]<2.0.0dev,>=1.5.2 in /usr/local/lib/python3.6/dist-packages (from grpc-google-iam-v1<0.13dev,>=0.12.3->google-cloud-iot) (1.52.0)\n",
            "Requirement already satisfied: six>=1.13.0 in /usr/local/lib/python3.6/dist-packages (from google-api-core[grpc]<2.0.0dev,>=1.22.0->google-cloud-iot) (1.15.0)\n",
            "Requirement already satisfied: pytz in /usr/local/lib/python3.6/dist-packages (from google-api-core[grpc]<2.0.0dev,>=1.22.0->google-cloud-iot) (2018.9)\n",
            "Collecting google-auth<2.0dev,>=1.21.1\n",
            "\u001b[?25l  Downloading https://files.pythonhosted.org/packages/1f/cf/724b6436967a8be879c8de16b09fd80e0e7b0bcad462f5c09ee021605785/google_auth-1.22.1-py2.py3-none-any.whl (114kB)\n",
            "\u001b[K     |████████████████████████████████| 122kB 44.2MB/s \n",
            "\u001b[?25hRequirement already satisfied: requests<3.0.0dev,>=2.18.0 in /usr/local/lib/python3.6/dist-packages (from google-api-core[grpc]<2.0.0dev,>=1.22.0->google-cloud-iot) (2.23.0)\n",
            "Requirement already satisfied: setuptools>=34.0.0 in /usr/local/lib/python3.6/dist-packages (from google-api-core[grpc]<2.0.0dev,>=1.22.0->google-cloud-iot) (50.3.0)\n",
            "Collecting pyyaml>=5.2\n",
            "\u001b[?25l  Downloading https://files.pythonhosted.org/packages/64/c2/b80047c7ac2478f9501676c988a5411ed5572f35d1beff9cae07d321512c/PyYAML-5.3.1.tar.gz (269kB)\n",
            "\u001b[K     |████████████████████████████████| 276kB 40.8MB/s \n",
            "\u001b[?25hCollecting typing-inspect>=0.4.0\n",
            "  Downloading https://files.pythonhosted.org/packages/42/1c/66402db44184904a2f14722d317a4da0b5c8c78acfc3faf74362566635c5/typing_inspect-0.6.0-py3-none-any.whl\n",
            "Requirement already satisfied: typing-extensions>=3.7.4.2 in /usr/local/lib/python3.6/dist-packages (from libcst>=0.2.5->google-cloud-iot) (3.7.4.3)\n",
            "Requirement already satisfied: dataclasses>=0.6.0; python_version < \"3.7\" in /usr/local/lib/python3.6/dist-packages (from libcst>=0.2.5->google-cloud-iot) (0.7)\n",
            "Requirement already satisfied: pyasn1-modules>=0.2.1 in /usr/local/lib/python3.6/dist-packages (from google-auth<2.0dev,>=1.21.1->google-api-core[grpc]<2.0.0dev,>=1.22.0->google-cloud-iot) (0.2.8)\n",
            "Requirement already satisfied: rsa<5,>=3.1.4; python_version >= \"3.5\" in /usr/local/lib/python3.6/dist-packages (from google-auth<2.0dev,>=1.21.1->google-api-core[grpc]<2.0.0dev,>=1.22.0->google-cloud-iot) (4.6)\n",
            "Requirement already satisfied: cachetools<5.0,>=2.0.0 in /usr/local/lib/python3.6/dist-packages (from google-auth<2.0dev,>=1.21.1->google-api-core[grpc]<2.0.0dev,>=1.22.0->google-cloud-iot) (4.1.1)\n",
            "Requirement already satisfied: certifi>=2017.4.17 in /usr/local/lib/python3.6/dist-packages (from requests<3.0.0dev,>=2.18.0->google-api-core[grpc]<2.0.0dev,>=1.22.0->google-cloud-iot) (2020.6.20)\n",
            "Requirement already satisfied: idna<3,>=2.5 in /usr/local/lib/python3.6/dist-packages (from requests<3.0.0dev,>=2.18.0->google-api-core[grpc]<2.0.0dev,>=1.22.0->google-cloud-iot) (2.10)\n",
            "Requirement already satisfied: chardet<4,>=3.0.2 in /usr/local/lib/python3.6/dist-packages (from requests<3.0.0dev,>=2.18.0->google-api-core[grpc]<2.0.0dev,>=1.22.0->google-cloud-iot) (3.0.4)\n",
            "Requirement already satisfied: urllib3!=1.25.0,!=1.25.1,<1.26,>=1.21.1 in /usr/local/lib/python3.6/dist-packages (from requests<3.0.0dev,>=2.18.0->google-api-core[grpc]<2.0.0dev,>=1.22.0->google-cloud-iot) (1.24.3)\n",
            "Collecting mypy-extensions>=0.3.0\n",
            "  Downloading https://files.pythonhosted.org/packages/5c/eb/975c7c080f3223a5cdaff09612f3a5221e4ba534f7039db34c35d95fa6a5/mypy_extensions-0.4.3-py2.py3-none-any.whl\n",
            "Requirement already satisfied: pyasn1<0.5.0,>=0.4.6 in /usr/local/lib/python3.6/dist-packages (from pyasn1-modules>=0.2.1->google-auth<2.0dev,>=1.21.1->google-api-core[grpc]<2.0.0dev,>=1.22.0->google-cloud-iot) (0.4.8)\n",
            "Building wheels for collected packages: proto-plus, grpc-google-iam-v1, pyyaml\n",
            "  Building wheel for proto-plus (setup.py) ... \u001b[?25l\u001b[?25hdone\n",
            "  Created wheel for proto-plus: filename=proto_plus-1.10.1-cp36-none-any.whl size=41279 sha256=a185ca895baa99fa5f34f3e04e224ced5de8c787fe5de2a2c0b17a52df6cc655\n",
            "  Stored in directory: /root/.cache/pip/wheels/08/80/3d/54dc44645ac5a646e7945bdaa67bba0816d6bcfd3aecf788f6\n",
            "  Building wheel for grpc-google-iam-v1 (setup.py) ... \u001b[?25l\u001b[?25hdone\n",
            "  Created wheel for grpc-google-iam-v1: filename=grpc_google_iam_v1-0.12.3-cp36-none-any.whl size=18500 sha256=e7696d5f5775214fe0b177761db2e1a9d71c3005a34e7097fd64295b45646c66\n",
            "  Stored in directory: /root/.cache/pip/wheels/de/3a/83/77a1e18e1a8757186df834b86ce6800120ac9c79cd8ca4091b\n",
            "  Building wheel for pyyaml (setup.py) ... \u001b[?25l\u001b[?25hdone\n",
            "  Created wheel for pyyaml: filename=PyYAML-5.3.1-cp36-cp36m-linux_x86_64.whl size=44619 sha256=53962f6fd82fffbc908d09c35210bf7c6749bbf289f4ca6bbc49c9ff83af1dd7\n",
            "  Stored in directory: /root/.cache/pip/wheels/a7/c1/ea/cf5bd31012e735dc1dfea3131a2d5eae7978b251083d6247bd\n",
            "Successfully built proto-plus grpc-google-iam-v1 pyyaml\n",
            "\u001b[31mERROR: google-colab 1.0.0 has requirement google-auth~=1.17.2, but you'll have google-auth 1.22.1 which is incompatible.\u001b[0m\n",
            "Installing collected packages: proto-plus, grpc-google-iam-v1, google-auth, google-api-core, pyyaml, mypy-extensions, typing-inspect, libcst, google-cloud-iot\n",
            "  Found existing installation: google-auth 1.17.2\n",
            "    Uninstalling google-auth-1.17.2:\n",
            "      Successfully uninstalled google-auth-1.17.2\n",
            "  Found existing installation: google-api-core 1.16.0\n",
            "    Uninstalling google-api-core-1.16.0:\n",
            "      Successfully uninstalled google-api-core-1.16.0\n",
            "  Found existing installation: PyYAML 3.13\n",
            "    Uninstalling PyYAML-3.13:\n",
            "      Successfully uninstalled PyYAML-3.13\n",
            "Successfully installed google-api-core-1.22.4 google-auth-1.22.1 google-cloud-iot-2.0.1 grpc-google-iam-v1-0.12.3 libcst-0.3.12 mypy-extensions-0.4.3 proto-plus-1.10.1 pyyaml-5.3.1 typing-inspect-0.6.0\n"
          ],
          "name": "stdout"
        },
        {
          "output_type": "display_data",
          "data": {
            "application/vnd.colab-display-data+json": {
              "pip_warning": {
                "packages": [
                  "google"
                ]
              }
            }
          },
          "metadata": {
            "tags": []
          }
        }
      ]
    },
    {
      "cell_type": "code",
      "metadata": {
        "id": "8-aLBvOAan_g",
        "outputId": "9fa0e93f-d738-4f07-acb1-c80e3369285c",
        "colab": {
          "base_uri": "https://localhost:8080/"
        }
      },
      "source": [
        "!pip install google-api-python-client"
      ],
      "execution_count": 2,
      "outputs": [
        {
          "output_type": "stream",
          "text": [
            "Requirement already satisfied: google-api-python-client in /usr/local/lib/python3.6/dist-packages (1.7.12)\n",
            "Requirement already satisfied: six<2dev,>=1.6.1 in /usr/local/lib/python3.6/dist-packages (from google-api-python-client) (1.15.0)\n",
            "Requirement already satisfied: google-auth>=1.4.1 in /usr/local/lib/python3.6/dist-packages (from google-api-python-client) (1.22.1)\n",
            "Requirement already satisfied: httplib2<1dev,>=0.17.0 in /usr/local/lib/python3.6/dist-packages (from google-api-python-client) (0.17.4)\n",
            "Requirement already satisfied: uritemplate<4dev,>=3.0.0 in /usr/local/lib/python3.6/dist-packages (from google-api-python-client) (3.0.1)\n",
            "Requirement already satisfied: google-auth-httplib2>=0.0.3 in /usr/local/lib/python3.6/dist-packages (from google-api-python-client) (0.0.4)\n",
            "Requirement already satisfied: pyasn1-modules>=0.2.1 in /usr/local/lib/python3.6/dist-packages (from google-auth>=1.4.1->google-api-python-client) (0.2.8)\n",
            "Requirement already satisfied: cachetools<5.0,>=2.0.0 in /usr/local/lib/python3.6/dist-packages (from google-auth>=1.4.1->google-api-python-client) (4.1.1)\n",
            "Requirement already satisfied: setuptools>=40.3.0 in /usr/local/lib/python3.6/dist-packages (from google-auth>=1.4.1->google-api-python-client) (50.3.0)\n",
            "Requirement already satisfied: rsa<5,>=3.1.4; python_version >= \"3.5\" in /usr/local/lib/python3.6/dist-packages (from google-auth>=1.4.1->google-api-python-client) (4.6)\n",
            "Requirement already satisfied: pyasn1<0.5.0,>=0.4.6 in /usr/local/lib/python3.6/dist-packages (from pyasn1-modules>=0.2.1->google-auth>=1.4.1->google-api-python-client) (0.4.8)\n"
          ],
          "name": "stdout"
        }
      ]
    },
    {
      "cell_type": "code",
      "metadata": {
        "id": "BmryKIkjnQ_y",
        "outputId": "0206908f-f996-492a-dd06-0cd575bee2c1",
        "colab": {
          "base_uri": "https://localhost:8080/"
        }
      },
      "source": [
        "!pip install google-cloud-storage"
      ],
      "execution_count": 3,
      "outputs": [
        {
          "output_type": "stream",
          "text": [
            "Requirement already satisfied: google-cloud-storage in /usr/local/lib/python3.6/dist-packages (1.18.1)\n",
            "Requirement already satisfied: google-resumable-media<0.5.0dev,>=0.3.1 in /usr/local/lib/python3.6/dist-packages (from google-cloud-storage) (0.4.1)\n",
            "Requirement already satisfied: google-cloud-core<2.0dev,>=1.0.0 in /usr/local/lib/python3.6/dist-packages (from google-cloud-storage) (1.0.3)\n",
            "Requirement already satisfied: google-auth>=1.2.0 in /usr/local/lib/python3.6/dist-packages (from google-cloud-storage) (1.22.1)\n",
            "Requirement already satisfied: six in /usr/local/lib/python3.6/dist-packages (from google-resumable-media<0.5.0dev,>=0.3.1->google-cloud-storage) (1.15.0)\n",
            "Requirement already satisfied: google-api-core<2.0.0dev,>=1.14.0 in /usr/local/lib/python3.6/dist-packages (from google-cloud-core<2.0dev,>=1.0.0->google-cloud-storage) (1.22.4)\n",
            "Requirement already satisfied: pyasn1-modules>=0.2.1 in /usr/local/lib/python3.6/dist-packages (from google-auth>=1.2.0->google-cloud-storage) (0.2.8)\n",
            "Requirement already satisfied: cachetools<5.0,>=2.0.0 in /usr/local/lib/python3.6/dist-packages (from google-auth>=1.2.0->google-cloud-storage) (4.1.1)\n",
            "Requirement already satisfied: rsa<5,>=3.1.4; python_version >= \"3.5\" in /usr/local/lib/python3.6/dist-packages (from google-auth>=1.2.0->google-cloud-storage) (4.6)\n",
            "Requirement already satisfied: setuptools>=40.3.0 in /usr/local/lib/python3.6/dist-packages (from google-auth>=1.2.0->google-cloud-storage) (50.3.0)\n",
            "Requirement already satisfied: googleapis-common-protos<2.0dev,>=1.6.0 in /usr/local/lib/python3.6/dist-packages (from google-api-core<2.0.0dev,>=1.14.0->google-cloud-core<2.0dev,>=1.0.0->google-cloud-storage) (1.52.0)\n",
            "Requirement already satisfied: pytz in /usr/local/lib/python3.6/dist-packages (from google-api-core<2.0.0dev,>=1.14.0->google-cloud-core<2.0dev,>=1.0.0->google-cloud-storage) (2018.9)\n",
            "Requirement already satisfied: requests<3.0.0dev,>=2.18.0 in /usr/local/lib/python3.6/dist-packages (from google-api-core<2.0.0dev,>=1.14.0->google-cloud-core<2.0dev,>=1.0.0->google-cloud-storage) (2.23.0)\n",
            "Requirement already satisfied: protobuf>=3.12.0 in /usr/local/lib/python3.6/dist-packages (from google-api-core<2.0.0dev,>=1.14.0->google-cloud-core<2.0dev,>=1.0.0->google-cloud-storage) (3.12.4)\n",
            "Requirement already satisfied: pyasn1<0.5.0,>=0.4.6 in /usr/local/lib/python3.6/dist-packages (from pyasn1-modules>=0.2.1->google-auth>=1.2.0->google-cloud-storage) (0.4.8)\n",
            "Requirement already satisfied: urllib3!=1.25.0,!=1.25.1,<1.26,>=1.21.1 in /usr/local/lib/python3.6/dist-packages (from requests<3.0.0dev,>=2.18.0->google-api-core<2.0.0dev,>=1.14.0->google-cloud-core<2.0dev,>=1.0.0->google-cloud-storage) (1.24.3)\n",
            "Requirement already satisfied: certifi>=2017.4.17 in /usr/local/lib/python3.6/dist-packages (from requests<3.0.0dev,>=2.18.0->google-api-core<2.0.0dev,>=1.14.0->google-cloud-core<2.0dev,>=1.0.0->google-cloud-storage) (2020.6.20)\n",
            "Requirement already satisfied: idna<3,>=2.5 in /usr/local/lib/python3.6/dist-packages (from requests<3.0.0dev,>=2.18.0->google-api-core<2.0.0dev,>=1.14.0->google-cloud-core<2.0dev,>=1.0.0->google-cloud-storage) (2.10)\n",
            "Requirement already satisfied: chardet<4,>=3.0.2 in /usr/local/lib/python3.6/dist-packages (from requests<3.0.0dev,>=2.18.0->google-api-core<2.0.0dev,>=1.14.0->google-cloud-core<2.0dev,>=1.0.0->google-cloud-storage) (3.0.4)\n"
          ],
          "name": "stdout"
        }
      ]
    },
    {
      "cell_type": "code",
      "metadata": {
        "id": "b9pAWRSsbynN",
        "outputId": "c7b2405d-1bac-47bd-bfee-866786ffd77d",
        "colab": {
          "base_uri": "https://localhost:8080/"
        }
      },
      "source": [
        "!pip install cryptography pyjwt paho-mqtt "
      ],
      "execution_count": 4,
      "outputs": [
        {
          "output_type": "stream",
          "text": [
            "Collecting cryptography\n",
            "\u001b[?25l  Downloading https://files.pythonhosted.org/packages/33/62/30f6936941d87a5ed72efb24249437824f6b2c953901245b58c91fde2f27/cryptography-3.1.1-cp35-abi3-manylinux2010_x86_64.whl (2.6MB)\n",
            "\u001b[K     |████████████████████████████████| 2.6MB 2.8MB/s \n",
            "\u001b[?25hCollecting pyjwt\n",
            "  Downloading https://files.pythonhosted.org/packages/87/8b/6a9f14b5f781697e51259d81657e6048fd31a113229cf346880bb7545565/PyJWT-1.7.1-py2.py3-none-any.whl\n",
            "Collecting paho-mqtt\n",
            "\u001b[?25l  Downloading https://files.pythonhosted.org/packages/32/d3/6dcb8fd14746fcde6a556f932b5de8bea8fedcb85b3a092e0e986372c0e7/paho-mqtt-1.5.1.tar.gz (101kB)\n",
            "\u001b[K     |████████████████████████████████| 102kB 8.7MB/s \n",
            "\u001b[?25hRequirement already satisfied: six>=1.4.1 in /usr/local/lib/python3.6/dist-packages (from cryptography) (1.15.0)\n",
            "Requirement already satisfied: cffi!=1.11.3,>=1.8 in /usr/local/lib/python3.6/dist-packages (from cryptography) (1.14.3)\n",
            "Requirement already satisfied: pycparser in /usr/local/lib/python3.6/dist-packages (from cffi!=1.11.3,>=1.8->cryptography) (2.20)\n",
            "Building wheels for collected packages: paho-mqtt\n",
            "  Building wheel for paho-mqtt (setup.py) ... \u001b[?25l\u001b[?25hdone\n",
            "  Created wheel for paho-mqtt: filename=paho_mqtt-1.5.1-cp36-none-any.whl size=61544 sha256=1367b29e77a46fb89489893c1db6016f6fa391b8678e00e4bc36108df68cf1db\n",
            "  Stored in directory: /root/.cache/pip/wheels/75/e2/f5/78942b19b4d135605e58dfe85fba52253b14d636aabf76904b\n",
            "Successfully built paho-mqtt\n",
            "Installing collected packages: cryptography, pyjwt, paho-mqtt\n",
            "Successfully installed cryptography-3.1.1 paho-mqtt-1.5.1 pyjwt-1.7.1\n"
          ],
          "name": "stdout"
        }
      ]
    },
    {
      "cell_type": "code",
      "metadata": {
        "id": "g7Vns7V0cC9N"
      },
      "source": [
        "import paho.mqtt.client as mqtt\n",
        "import jwt\n",
        "import time\n",
        "import ssl\n",
        "import random\n",
        "import os\n",
        "import logging\n",
        "import datetime\n",
        "import argparse"
      ],
      "execution_count": 5,
      "outputs": []
    },
    {
      "cell_type": "markdown",
      "metadata": {
        "id": "p1cM6ML0naRG"
      },
      "source": [
        "# Setup Google Cloud Client"
      ]
    },
    {
      "cell_type": "code",
      "metadata": {
        "id": "nivGmp_geTdJ"
      },
      "source": [
        "from google.colab import auth\n",
        "auth.authenticate_user()"
      ],
      "execution_count": 6,
      "outputs": []
    },
    {
      "cell_type": "code",
      "metadata": {
        "id": "VCRLVnTseYhx",
        "outputId": "6a59131c-9644-4bbf-9cee-9f8b0c88e5aa",
        "colab": {
          "base_uri": "https://localhost:8080/"
        }
      },
      "source": [
        "!gcloud config list"
      ],
      "execution_count": 7,
      "outputs": [
        {
          "output_type": "stream",
          "text": [
            "[component_manager]\n",
            "disable_update_check = True\n",
            "[compute]\n",
            "gce_metadata_read_timeout_sec = 0\n",
            "[core]\n",
            "account = leelaalekhya.vedula@sjsu.edu\n",
            "\n",
            "Your active configuration is: [default]\n"
          ],
          "name": "stdout"
        }
      ]
    },
    {
      "cell_type": "code",
      "metadata": {
        "id": "FY8uiFUOeyL2",
        "outputId": "eda2cea4-3700-4486-be8a-71a57dd8d282",
        "colab": {
          "base_uri": "https://localhost:8080/"
        }
      },
      "source": [
        "!gcloud config set compute/region us-central1"
      ],
      "execution_count": 8,
      "outputs": [
        {
          "output_type": "stream",
          "text": [
            "Updated property [compute/region].\n"
          ],
          "name": "stdout"
        }
      ]
    },
    {
      "cell_type": "code",
      "metadata": {
        "id": "Bb1T7BlDe4dC",
        "outputId": "8b540916-c46c-4f38-e758-ab83e52b8607",
        "colab": {
          "base_uri": "https://localhost:8080/"
        }
      },
      "source": [
        "!gcloud config set compute/zone us-central1a"
      ],
      "execution_count": 9,
      "outputs": [
        {
          "output_type": "stream",
          "text": [
            "Updated property [compute/zone].\n"
          ],
          "name": "stdout"
        }
      ]
    },
    {
      "cell_type": "code",
      "metadata": {
        "id": "yDPhneOvfCQv",
        "outputId": "135d074b-5f2a-4299-d531-29f2549321dd",
        "colab": {
          "base_uri": "https://localhost:8080/"
        }
      },
      "source": [
        "!gcloud config list project"
      ],
      "execution_count": 10,
      "outputs": [
        {
          "output_type": "stream",
          "text": [
            "[core]\n",
            "project (unset)\n",
            "\n",
            "Your active configuration is: [default]\n"
          ],
          "name": "stdout"
        }
      ]
    },
    {
      "cell_type": "code",
      "metadata": {
        "id": "O13_BY7wx-qK",
        "outputId": "7f91b4d4-fbfa-4265-d680-34db0bac360c",
        "colab": {
          "base_uri": "https://localhost:8080/"
        }
      },
      "source": [
        "!gcloud config set project 'cmpeiot'"
      ],
      "execution_count": 11,
      "outputs": [
        {
          "output_type": "stream",
          "text": [
            "Updated property [core/project].\n"
          ],
          "name": "stdout"
        }
      ]
    },
    {
      "cell_type": "code",
      "metadata": {
        "id": "aqI7jnrze9Nj",
        "outputId": "1c444ed8-a0c0-4120-952c-3435bc433eea",
        "colab": {
          "base_uri": "https://localhost:8080/"
        }
      },
      "source": [
        "!gcloud config set project 'cmpeiot'"
      ],
      "execution_count": 12,
      "outputs": [
        {
          "output_type": "stream",
          "text": [
            "Updated property [core/project].\n"
          ],
          "name": "stdout"
        }
      ]
    },
    {
      "cell_type": "code",
      "metadata": {
        "id": "2mSK8qxV3r3s",
        "outputId": "5999d44e-4c52-4024-9453-1f6830acd8d5",
        "colab": {
          "base_uri": "https://localhost:8080/"
        }
      },
      "source": [
        "!gcloud config list project"
      ],
      "execution_count": 13,
      "outputs": [
        {
          "output_type": "stream",
          "text": [
            "[core]\n",
            "project = cmpeiot\n",
            "\n",
            "Your active configuration is: [default]\n"
          ],
          "name": "stdout"
        }
      ]
    },
    {
      "cell_type": "markdown",
      "metadata": {
        "id": "9Vmk0d1ma7pi"
      },
      "source": [
        "# Mount Google Drive"
      ]
    },
    {
      "cell_type": "code",
      "metadata": {
        "id": "JCtCfdQTa-L5",
        "outputId": "dec76037-224b-4aa2-bdf5-63a544def477",
        "colab": {
          "base_uri": "https://localhost:8080/"
        }
      },
      "source": [
        "from google.colab import drive\n",
        "import os\n",
        "drive.mount('/content/gdrive')"
      ],
      "execution_count": 14,
      "outputs": [
        {
          "output_type": "stream",
          "text": [
            "Mounted at /content/gdrive\n"
          ],
          "name": "stdout"
        }
      ]
    },
    {
      "cell_type": "markdown",
      "metadata": {
        "id": "NlTyhuIjv8tb"
      },
      "source": [
        "Create a service credentials, ref: https://cloud.google.com/storage/docs/reference/libraries#client-libraries-usage-nodejs"
      ]
    },
    {
      "cell_type": "code",
      "metadata": {
        "id": "hIFv1uYPpd-Z"
      },
      "source": [
        "myservicecredentials='/content/gdrive/\"My Drive\"/\"Colab Notebooks\"/Googlecerts'"
      ],
      "execution_count": 15,
      "outputs": []
    },
    {
      "cell_type": "code",
      "metadata": {
        "id": "vyCjrVu6pqon",
        "outputId": "11c46c84-7bc8-4bfc-a41f-0be793141f66",
        "colab": {
          "base_uri": "https://localhost:8080/"
        }
      },
      "source": [
        "!ls {myservicecredentials}"
      ],
      "execution_count": 16,
      "outputs": [
        {
          "output_type": "stream",
          "text": [
            "cmpeiot-92ac83152fbc.json  iotdevicenew  roots.pem\n"
          ],
          "name": "stdout"
        }
      ]
    },
    {
      "cell_type": "code",
      "metadata": {
        "id": "XyvHZIsD-FhI",
        "outputId": "5a69ce70-c0ac-4284-faae-088795eb663f",
        "colab": {
          "base_uri": "https://localhost:8080/"
        }
      },
      "source": [
        "newdevicecredentials_path=os.path.join(myservicecredentials, 'iotdevicenew')\n",
        "!ls {newdevicecredentials_path}"
      ],
      "execution_count": 17,
      "outputs": [
        {
          "output_type": "stream",
          "text": [
            "rsa_cert.pem  rsa_private.pem\n"
          ],
          "name": "stdout"
        }
      ]
    },
    {
      "cell_type": "code",
      "metadata": {
        "id": "m1l_-AdIp0tO"
      },
      "source": [
        "myservicecredentials_path=os.path.join(myservicecredentials, 'cmpeiot-92ac83152fbc.json')"
      ],
      "execution_count": 18,
      "outputs": []
    },
    {
      "cell_type": "code",
      "metadata": {
        "id": "rcLXy7Vrqws1"
      },
      "source": [
        "!cp {myservicecredentials_path} . #copy to the local directory"
      ],
      "execution_count": 19,
      "outputs": []
    },
    {
      "cell_type": "code",
      "metadata": {
        "id": "W5kTtO0y-Tgo"
      },
      "source": [
        "!cp -r {newdevicecredentials_path} ."
      ],
      "execution_count": 20,
      "outputs": []
    },
    {
      "cell_type": "code",
      "metadata": {
        "id": "iHT-CbooH6VE"
      },
      "source": [
        "rootcredentials_path=os.path.join(myservicecredentials, 'roots.pem')\n",
        "!cp {rootcredentials_path} ."
      ],
      "execution_count": 21,
      "outputs": []
    },
    {
      "cell_type": "code",
      "metadata": {
        "id": "FEjMsCPS-X-B",
        "outputId": "34f2b587-e1f2-4cca-9d4b-9a6d0848e0cf",
        "colab": {
          "base_uri": "https://localhost:8080/"
        }
      },
      "source": [
        "!ls"
      ],
      "execution_count": 22,
      "outputs": [
        {
          "output_type": "stream",
          "text": [
            "adc.json\t\t   gdrive\t roots.pem\n",
            "cmpeiot-92ac83152fbc.json  iotdevicenew  sample_data\n"
          ],
          "name": "stdout"
        }
      ]
    },
    {
      "cell_type": "code",
      "metadata": {
        "id": "d4XVMOm0qNRp"
      },
      "source": [
        "GOOGLE_APPLICATION_CREDENTIALS='./cmpeiot-92ac83152fbc.json'"
      ],
      "execution_count": 23,
      "outputs": []
    },
    {
      "cell_type": "code",
      "metadata": {
        "id": "U-eJTWydqPjk",
        "outputId": "fa55b9ba-45e0-46ad-dc11-120cbf549cea",
        "colab": {
          "base_uri": "https://localhost:8080/"
        }
      },
      "source": [
        "!echo $GOOGLE_APPLICATION_CREDENTIALS"
      ],
      "execution_count": 24,
      "outputs": [
        {
          "output_type": "stream",
          "text": [
            "./cmpeiot-92ac83152fbc.json\n"
          ],
          "name": "stdout"
        }
      ]
    },
    {
      "cell_type": "markdown",
      "metadata": {
        "id": "QQqGaEldcJFS"
      },
      "source": [
        "# Google IoT Defined functions"
      ]
    },
    {
      "cell_type": "code",
      "metadata": {
        "id": "NifkYik2cNxc"
      },
      "source": [
        "import paho.mqtt.client as mqtt\n",
        "import jwt\n",
        "import time\n",
        "import ssl\n",
        "import random\n",
        "import os\n",
        "import logging\n",
        "import datetime\n",
        "import argparse\n",
        "\n",
        "from google.cloud import storage"
      ],
      "execution_count": 25,
      "outputs": []
    },
    {
      "cell_type": "code",
      "metadata": {
        "id": "afpn5sqY5YWR"
      },
      "source": [
        "# The initial backoff time after a disconnection occurs, in seconds.\n",
        "minimum_backoff_time = 1\n",
        "\n",
        "# The maximum backoff time before giving up, in seconds.\n",
        "MAXIMUM_BACKOFF_TIME = 32\n",
        "\n",
        "# Whether to wait with exponential backoff before publishing.\n",
        "should_backoff = False\n",
        "\n",
        "def create_jwt(project_id, private_key_file, algorithm):\n",
        "    \"\"\"Creates a JWT (https://jwt.io) to establish an MQTT connection.\n",
        "        Args:\n",
        "         project_id: The cloud project ID this device belongs to\n",
        "         private_key_file: A path to a file containing either an RSA256 or\n",
        "                 ES256 private key.\n",
        "         algorithm: The encryption algorithm to use. Either 'RS256' or 'ES256'\n",
        "        Returns:\n",
        "            A JWT generated from the given project_id and private key, which\n",
        "            expires in 20 minutes. After 20 minutes, your client will be\n",
        "            disconnected, and a new JWT will have to be generated.\n",
        "        Raises:\n",
        "            ValueError: If the private_key_file does not contain a known key.\n",
        "        \"\"\"\n",
        "\n",
        "    token = {\n",
        "        # The time that the token was issued at\n",
        "        'iat': datetime.datetime.utcnow(),\n",
        "        # The time the token expires.\n",
        "        'exp': datetime.datetime.utcnow() + datetime.timedelta(minutes=20),\n",
        "        # The audience field should always be set to the GCP project id.\n",
        "        'aud': project_id\n",
        "    }\n",
        "\n",
        "    # Read the private key file.\n",
        "    with open(private_key_file, 'r') as f:\n",
        "        private_key = f.read()\n",
        "\n",
        "    print('Creating JWT using {} from private key file {}'.format(\n",
        "        algorithm, private_key_file))\n",
        "\n",
        "    return jwt.encode(token, private_key, algorithm=algorithm)\n",
        "# [END iot_mqtt_jwt]"
      ],
      "execution_count": 26,
      "outputs": []
    },
    {
      "cell_type": "code",
      "metadata": {
        "id": "c7CVNFJA5d22"
      },
      "source": [
        "def error_str(rc):\n",
        "    \"\"\"Convert a Paho error to a human readable string.\"\"\"\n",
        "    return '{}: {}'.format(rc, mqtt.error_string(rc))\n",
        "\n",
        "\n",
        "def on_connect(unused_client, unused_userdata, unused_flags, rc):\n",
        "    \"\"\"Callback for when a device connects.\"\"\"\n",
        "    print('on_connect', mqtt.connack_string(rc))\n",
        "\n",
        "    # After a successful connect, reset backoff time and stop backing off.\n",
        "    global should_backoff\n",
        "    global minimum_backoff_time\n",
        "    should_backoff = False\n",
        "    minimum_backoff_time = 1\n",
        "\n",
        "\n",
        "def on_disconnect(unused_client, unused_userdata, rc):\n",
        "    \"\"\"Paho callback for when a device disconnects.\"\"\"\n",
        "    print('on_disconnect', error_str(rc))\n",
        "\n",
        "    # Since a disconnect occurred, the next loop iteration will wait with\n",
        "    # exponential backoff.\n",
        "    global should_backoff\n",
        "    should_backoff = True\n",
        "\n",
        "\n",
        "def on_publish(unused_client, unused_userdata, unused_mid):\n",
        "    \"\"\"Paho callback when a message is sent to the broker.\"\"\"\n",
        "    print('on_publish')\n",
        "\n",
        "\n",
        "def on_message(unused_client, unused_userdata, message):\n",
        "    \"\"\"Callback when the device receives a message on a subscription.\"\"\"\n",
        "    payload = str(message.payload.decode('utf-8'))\n",
        "    print('Received message \\'{}\\' on topic \\'{}\\' with Qos {}'.format(\n",
        "        payload, message.topic, str(message.qos)))"
      ],
      "execution_count": 27,
      "outputs": []
    },
    {
      "cell_type": "code",
      "metadata": {
        "id": "vFONbm3D5qjm"
      },
      "source": [
        "def get_client(\n",
        "        project_id, cloud_region, registry_id, device_id, private_key_file,\n",
        "        algorithm, ca_certs, mqtt_bridge_hostname, mqtt_bridge_port):\n",
        "    \"\"\"Create our MQTT client. The client_id is a unique string that identifies\n",
        "    this device. For Google Cloud IoT Core, it must be in the format below.\"\"\"\n",
        "    client_id = 'projects/{}/locations/{}/registries/{}/devices/{}'.format(\n",
        "        project_id, cloud_region, registry_id, device_id)\n",
        "    print('Device client_id is \\'{}\\''.format(client_id))\n",
        "\n",
        "    client = mqtt.Client(client_id=client_id)\n",
        "\n",
        "    # With Google Cloud IoT Core, the username field is ignored, and the\n",
        "    # password field is used to transmit a JWT to authorize the device.\n",
        "    client.username_pw_set(\n",
        "        username='unused',\n",
        "        password=create_jwt(\n",
        "            project_id, private_key_file, algorithm))\n",
        "\n",
        "    # Enable SSL/TLS support.\n",
        "    client.tls_set(ca_certs=ca_certs, tls_version=ssl.PROTOCOL_TLSv1_2)\n",
        "\n",
        "    # Register message callbacks. https://eclipse.org/paho/clients/python/docs/\n",
        "    # describes additional callbacks that Paho supports. In this example, the\n",
        "    # callbacks just print to standard out.\n",
        "    client.on_connect = on_connect\n",
        "    client.on_publish = on_publish\n",
        "    client.on_disconnect = on_disconnect\n",
        "    client.on_message = on_message\n",
        "\n",
        "    # Connect to the Google MQTT bridge.\n",
        "    client.connect(mqtt_bridge_hostname, mqtt_bridge_port)\n",
        "\n",
        "    # This is the topic that the device will receive configuration updates on.\n",
        "    mqtt_config_topic = '/devices/{}/config'.format(device_id)\n",
        "\n",
        "    # Subscribe to the config topic.\n",
        "    client.subscribe(mqtt_config_topic, qos=1)\n",
        "\n",
        "    # The topic that the device will receive commands on.\n",
        "    mqtt_command_topic = '/devices/{}/commands/#'.format(device_id)\n",
        "\n",
        "    # Subscribe to the commands topic, QoS 1 enables message acknowledgement.\n",
        "    print('Subscribing to {}'.format(mqtt_command_topic))\n",
        "    client.subscribe(mqtt_command_topic, qos=0)\n",
        "\n",
        "    return client\n",
        "# [END iot_mqtt_config]"
      ],
      "execution_count": 28,
      "outputs": []
    },
    {
      "cell_type": "code",
      "metadata": {
        "id": "_pl0zLTUIFfI",
        "outputId": "c0a5f48b-f326-49ca-86e1-04e146c8d99f",
        "colab": {
          "base_uri": "https://localhost:8080/"
        }
      },
      "source": [
        "!ls"
      ],
      "execution_count": 29,
      "outputs": [
        {
          "output_type": "stream",
          "text": [
            "adc.json\t\t   gdrive\t roots.pem\n",
            "cmpeiot-92ac83152fbc.json  iotdevicenew  sample_data\n"
          ],
          "name": "stdout"
        }
      ]
    },
    {
      "cell_type": "code",
      "metadata": {
        "id": "WHqWQnRTIEq1"
      },
      "source": [
        "GOOGLE_APPLICATION_CREDENTIALS='./cmpeiot-92ac83152fbc.json'\n",
        "ROOT_CREDENTIALS='./roots.pem'"
      ],
      "execution_count": 30,
      "outputs": []
    },
    {
      "cell_type": "code",
      "metadata": {
        "id": "5W_KynqJ6ge2"
      },
      "source": [
        "class Args:\n",
        "  algorithm = 'RS256'\n",
        "  ca_certs = '/content/roots.pem'\n",
        "  cloud_region = 'us-central1'\n",
        "  data = 'Hello there'\n",
        "  device_id = 'cmpeiotdevice2'\n",
        "  jwt_expires_minutes = 20\n",
        "  listen_dur = 60\n",
        "  message_type = 'event'\n",
        "  mqtt_bridge_hostname = 'mqtt.googleapis.com'\n",
        "  mqtt_bridge_port = 8883\n",
        "  num_messages = 10\n",
        "  private_key_file = '/content/iotdevicenew/rsa_private.pem'#/content/gdrive/\"My Drive\"/CurrentWork/CMPE181Sp2020/Googlecerts/cmpe181dev1/rsa_private.pem'\n",
        "  project_id = 'cmpeiot'\n",
        "  registry_id = 'CMPEIoT1'\n",
        "  service_account_json = '/content/cmpeiot-92ac83152fbc.json'#os.environ.get(\"GOOGLE_APPLICATION_CREDENTIALS\")\n",
        "  imagefolder_path= './data'\n",
        "\n",
        "\n",
        "args=Args()"
      ],
      "execution_count": 31,
      "outputs": []
    },
    {
      "cell_type": "code",
      "metadata": {
        "id": "PFseNuwC8jPx",
        "outputId": "42f30755-5816-4cf0-f4b4-7da2da55e9fe",
        "colab": {
          "base_uri": "https://localhost:8080/"
        }
      },
      "source": [
        "print(args.private_key_file)"
      ],
      "execution_count": 32,
      "outputs": [
        {
          "output_type": "stream",
          "text": [
            "/content/iotdevicenew/rsa_private.pem\n"
          ],
          "name": "stdout"
        }
      ]
    },
    {
      "cell_type": "code",
      "metadata": {
        "id": "sy2qfZSa5r6h"
      },
      "source": [
        "\n",
        "def parse_command_line_args():\n",
        "    \"\"\"Parse command line arguments.\"\"\"\n",
        "    parser = argparse.ArgumentParser(description=(\n",
        "        'Example Google Cloud IoT Core MQTT device connection code.'))\n",
        "    parser.add_argument(\n",
        "        '--algorithm',\n",
        "        choices=('RS256', 'ES256'),\n",
        "        required=True,\n",
        "        help='Which encryption algorithm to use to generate the JWT.')\n",
        "    parser.add_argument(\n",
        "        '--ca_certs',\n",
        "        default='./roots.pem',\n",
        "        help='CA root from https://pki.google.com/roots.pem')\n",
        "    parser.add_argument(\n",
        "        '--cloud_region', default='us-central1', help='GCP cloud region')\n",
        "    parser.add_argument(\n",
        "        '--data',\n",
        "        default='Hello there',\n",
        "        help='The telemetry data sent on behalf of a device')\n",
        "    parser.add_argument(\n",
        "        '--device_id', required=True, help='Cloud IoT Core device id')\n",
        "    parser.add_argument(\n",
        "        '--gateway_id', required=False, help='Gateway identifier.')\n",
        "    parser.add_argument(\n",
        "        '--jwt_expires_minutes',\n",
        "        default=20,\n",
        "        type=int,\n",
        "        help='Expiration time, in minutes, for JWT tokens.')\n",
        "    parser.add_argument(\n",
        "        '--listen_dur',\n",
        "        default=60,\n",
        "        type=int,\n",
        "        help='Duration (seconds) to listen for configuration messages')\n",
        "    parser.add_argument(\n",
        "        '--message_type',\n",
        "        choices=('event', 'state'),\n",
        "        default='event',\n",
        "        help=('Indicates whether the message to be published is a '\n",
        "              'telemetry event or a device state message.'))\n",
        "    parser.add_argument(\n",
        "        '--mqtt_bridge_hostname',\n",
        "        default='mqtt.googleapis.com',\n",
        "        help='MQTT bridge hostname.')\n",
        "    parser.add_argument(\n",
        "        '--mqtt_bridge_port',\n",
        "        choices=(8883, 443),\n",
        "        default=8883,\n",
        "        type=int,\n",
        "        help='MQTT bridge port.')\n",
        "    parser.add_argument(\n",
        "        '--num_messages',\n",
        "        type=int,\n",
        "        default=100,\n",
        "        help='Number of messages to publish.')\n",
        "    parser.add_argument(\n",
        "        '--private_key_file',\n",
        "        required=True,\n",
        "        help='Path to private key file.')\n",
        "    parser.add_argument(\n",
        "        '--project_id',\n",
        "        default=os.environ.get('GOOGLE_CLOUD_PROJECT'),\n",
        "        help='GCP cloud project name')\n",
        "    parser.add_argument(\n",
        "        '--registry_id', required=True, help='Cloud IoT Core registry id')\n",
        "    parser.add_argument(\n",
        "        '--service_account_json',\n",
        "        default=os.environ.get(\"GOOGLE_APPLICATION_CREDENTIALS\"),\n",
        "        help='Path to service account json file.')\n",
        "\n",
        "    return parser.parse_args()\n",
        "\n",
        "\n"
      ],
      "execution_count": 33,
      "outputs": []
    },
    {
      "cell_type": "code",
      "metadata": {
        "id": "woDB9zjMKM83"
      },
      "source": [
        "import random\n",
        "import time\n",
        "import datetime\n",
        "import json\n",
        "\n",
        "def read_sensor(count):\n",
        "    tempF = 20 + 0.2*count + (random.random() * 15)\n",
        "    humidity = 60 + 0.3*count+ (random.random() * 20)\n",
        "    temp = '{0:0.2f}'.format(tempF)\n",
        "    hum = '{0:0.2f}'.format(humidity)\n",
        "    sensorZipCode = 95192#\"94043\"\n",
        "    sensorLat = 37.3382082+ (random.random() /100)#\"37.421655\"\n",
        "    sensorLong = -121.8863286 + (random.random() /100)#\"-122.085637\"\n",
        "    sensorLatf = '{0:0.6f}'.format(sensorLat)\n",
        "    sensorLongf = '{0:0.6f}'.format(sensorLong)\n",
        "    return (temp, hum, sensorZipCode, sensorLatf, sensorLongf)\n",
        "\n",
        "def createJSON(reg_id, dev_id, timestamp, zip, lat, long, temperature, humidity):\n",
        "    data = {\n",
        "      'registry_id' : reg_id,\n",
        "      'device_id' : dev_id,\n",
        "      'timecollected' : timestamp,\n",
        "      'zipcode' : zip,\n",
        "      'latitude' : lat,\n",
        "      'longitude' : long,\n",
        "      'temperature' : temperature,\n",
        "      'humidity' : humidity,\n",
        "      # 'image_file' : img_file\n",
        "    }\n",
        "\n",
        "    json_str = json.dumps(data)\n",
        "    return json_str\n"
      ],
      "execution_count": 34,
      "outputs": []
    },
    {
      "cell_type": "code",
      "metadata": {
        "id": "SR7aXvQRFYtW"
      },
      "source": [
        "def mqtt_device_demo(args):\n",
        "    \"\"\"Connects a device, sends data, and receives data.\"\"\"\n",
        "    # [START iot_mqtt_run]\n",
        "    global minimum_backoff_time\n",
        "    global MAXIMUM_BACKOFF_TIME\n",
        "\n",
        "    # Publish to the events or state topic based on the flag.\n",
        "    sub_topic = 'events' if args.message_type == 'event' else 'state'\n",
        "\n",
        "    mqtt_topic = '/devices/{}/{}'.format(args.device_id, sub_topic)\n",
        "\n",
        "    jwt_iat = datetime.datetime.utcnow()\n",
        "    jwt_exp_mins = args.jwt_expires_minutes\n",
        "    client = get_client(\n",
        "        args.project_id, args.cloud_region, args.registry_id,\n",
        "        args.device_id, args.private_key_file, args.algorithm,\n",
        "        args.ca_certs, args.mqtt_bridge_hostname, args.mqtt_bridge_port)\n",
        "\n",
        "    # Publish num_messages messages to the MQTT bridge once per second.\n",
        "    for i in range(1, args.num_messages + 1):\n",
        "        # Process network events.\n",
        "        client.loop()\n",
        "        currentTime = str(datetime.datetime.utcnow().strftime('%Y-%m-%d %H:%M:%S'))\n",
        "        (temp, hum, sensorZipCode, sensorLat, sensorLong) = read_sensor(i)\n",
        "            #(id, timestamp, zip, lat, long, temperature, humidity, img_file)\n",
        "        payloadJSON = createJSON(args.registry_id, args.device_id, currentTime, sensorZipCode, sensorLat, sensorLong, temp, hum)\n",
        "\n",
        "            #payload = '{}/{}-image-{}'.format(args.registry_id, args.device_id, i)\n",
        "        print('Publishing message {}/: \\'{}\\''.format(i, payloadJSON))\n",
        "        \n",
        "\n",
        "        # Wait if backoff is required.\n",
        "        if should_backoff:\n",
        "            # If backoff time is too large, give up.\n",
        "            if minimum_backoff_time > MAXIMUM_BACKOFF_TIME:\n",
        "                print('Exceeded maximum backoff time. Giving up.')\n",
        "                break\n",
        "\n",
        "            # Otherwise, wait and connect again.\n",
        "            delay = minimum_backoff_time + random.randint(0, 1000) / 1000.0\n",
        "            print('Waiting for {} before reconnecting.'.format(delay))\n",
        "            time.sleep(delay)\n",
        "            minimum_backoff_time *= 2\n",
        "            client.connect(args.mqtt_bridge_hostname, args.mqtt_bridge_port)\n",
        "\n",
        "        payload = '{}/{}-payload-{}'.format(\n",
        "            args.registry_id, args.device_id, i)\n",
        "        print('Publishing message {}/{}: \\'{}\\''.format(\n",
        "            i, args.num_messages, payload))\n",
        "        # [START iot_mqtt_jwt_refresh]\n",
        "        seconds_since_issue = (datetime.datetime.utcnow() - jwt_iat).seconds\n",
        "        if seconds_since_issue > 60 * jwt_exp_mins:\n",
        "            print('Refreshing token after {}s'.format(seconds_since_issue))\n",
        "            jwt_iat = datetime.datetime.utcnow()\n",
        "            client.loop()\n",
        "           \n",
        "            client.disconnect()\n",
        "            client = get_client(\n",
        "                args.project_id, args.cloud_region,\n",
        "                args.registry_id, args.device_id, args.private_key_file,\n",
        "                args.algorithm, args.ca_certs, args.mqtt_bridge_hostname,\n",
        "                args.mqtt_bridge_port)\n",
        "        # [END iot_mqtt_jwt_refresh]\n",
        "        # Publish \"payload\" to the MQTT topic. qos=1 means at least once\n",
        "        # delivery. Cloud IoT Core also supports qos=0 for at most once\n",
        "        # delivery.\n",
        "        client.publish(mqtt_topic, payloadJSON, qos=1)\n",
        "\n",
        "\n",
        "\n",
        "        \n",
        "        # Send events every second. State should not be updated as often\n",
        "        time.sleep(1)\n",
        "        # for i in range(0, 60):\n",
        "        #     time.sleep(1)\n",
        "        #     client.loop()\n",
        "    # [END iot_mqtt_run]"
      ],
      "execution_count": 35,
      "outputs": []
    },
    {
      "cell_type": "code",
      "metadata": {
        "id": "d_ipYqvp8JY8",
        "outputId": "73541486-713c-456d-82a0-c82d4e1b1ac2",
        "colab": {
          "base_uri": "https://localhost:8080/"
        }
      },
      "source": [
        "mqtt_device_demo(args)\n"
      ],
      "execution_count": 36,
      "outputs": [
        {
          "output_type": "stream",
          "text": [
            "Device client_id is 'projects/cmpeiot/locations/us-central1/registries/CMPEIoT1/devices/cmpeiotdevice2'\n",
            "Creating JWT using RS256 from private key file /content/iotdevicenew/rsa_private.pem\n",
            "Subscribing to /devices/cmpeiotdevice2/commands/#\n",
            "Publishing message 1/: '{\"registry_id\": \"CMPEIoT1\", \"device_id\": \"cmpeiotdevice2\", \"timecollected\": \"2020-10-10 21:03:23\", \"zipcode\": 95192, \"latitude\": \"37.341153\", \"longitude\": \"-121.880792\", \"temperature\": \"30.75\", \"humidity\": \"79.14\"}'\n",
            "Publishing message 1/10: 'CMPEIoT1/cmpeiotdevice2-payload-1'\n",
            "on_connect Connection Accepted.\n",
            "Publishing message 2/: '{\"registry_id\": \"CMPEIoT1\", \"device_id\": \"cmpeiotdevice2\", \"timecollected\": \"2020-10-10 21:03:24\", \"zipcode\": 95192, \"latitude\": \"37.343445\", \"longitude\": \"-121.877893\", \"temperature\": \"32.65\", \"humidity\": \"61.15\"}'\n",
            "Publishing message 2/10: 'CMPEIoT1/cmpeiotdevice2-payload-2'\n",
            "Publishing message 3/: '{\"registry_id\": \"CMPEIoT1\", \"device_id\": \"cmpeiotdevice2\", \"timecollected\": \"2020-10-10 21:03:25\", \"zipcode\": 95192, \"latitude\": \"37.343007\", \"longitude\": \"-121.884140\", \"temperature\": \"34.78\", \"humidity\": \"62.84\"}'\n",
            "Publishing message 3/10: 'CMPEIoT1/cmpeiotdevice2-payload-3'\n",
            "Received message '' on topic '/devices/cmpeiotdevice2/config' with Qos 1\n",
            "on_publish\n",
            "on_publish\n",
            "Publishing message 4/: '{\"registry_id\": \"CMPEIoT1\", \"device_id\": \"cmpeiotdevice2\", \"timecollected\": \"2020-10-10 21:03:26\", \"zipcode\": 95192, \"latitude\": \"37.346701\", \"longitude\": \"-121.882658\", \"temperature\": \"34.43\", \"humidity\": \"70.49\"}'\n",
            "Publishing message 4/10: 'CMPEIoT1/cmpeiotdevice2-payload-4'\n",
            "on_publish\n",
            "on_publish\n",
            "Publishing message 5/: '{\"registry_id\": \"CMPEIoT1\", \"device_id\": \"cmpeiotdevice2\", \"timecollected\": \"2020-10-10 21:03:27\", \"zipcode\": 95192, \"latitude\": \"37.343203\", \"longitude\": \"-121.878919\", \"temperature\": \"22.64\", \"humidity\": \"78.03\"}'\n",
            "Publishing message 5/10: 'CMPEIoT1/cmpeiotdevice2-payload-5'\n",
            "on_publish\n",
            "Publishing message 6/: '{\"registry_id\": \"CMPEIoT1\", \"device_id\": \"cmpeiotdevice2\", \"timecollected\": \"2020-10-10 21:03:28\", \"zipcode\": 95192, \"latitude\": \"37.343238\", \"longitude\": \"-121.880149\", \"temperature\": \"28.53\", \"humidity\": \"74.88\"}'\n",
            "Publishing message 6/10: 'CMPEIoT1/cmpeiotdevice2-payload-6'\n",
            "on_publish\n",
            "Publishing message 7/: '{\"registry_id\": \"CMPEIoT1\", \"device_id\": \"cmpeiotdevice2\", \"timecollected\": \"2020-10-10 21:03:29\", \"zipcode\": 95192, \"latitude\": \"37.346616\", \"longitude\": \"-121.884946\", \"temperature\": \"30.84\", \"humidity\": \"67.50\"}'\n",
            "Publishing message 7/10: 'CMPEIoT1/cmpeiotdevice2-payload-7'\n",
            "on_publish\n",
            "Publishing message 8/: '{\"registry_id\": \"CMPEIoT1\", \"device_id\": \"cmpeiotdevice2\", \"timecollected\": \"2020-10-10 21:03:30\", \"zipcode\": 95192, \"latitude\": \"37.345393\", \"longitude\": \"-121.880567\", \"temperature\": \"28.25\", \"humidity\": \"73.88\"}'\n",
            "Publishing message 8/10: 'CMPEIoT1/cmpeiotdevice2-payload-8'\n",
            "on_publish\n",
            "Publishing message 9/: '{\"registry_id\": \"CMPEIoT1\", \"device_id\": \"cmpeiotdevice2\", \"timecollected\": \"2020-10-10 21:03:31\", \"zipcode\": 95192, \"latitude\": \"37.347072\", \"longitude\": \"-121.880313\", \"temperature\": \"24.89\", \"humidity\": \"70.68\"}'\n",
            "Publishing message 9/10: 'CMPEIoT1/cmpeiotdevice2-payload-9'\n",
            "on_publish\n",
            "Publishing message 10/: '{\"registry_id\": \"CMPEIoT1\", \"device_id\": \"cmpeiotdevice2\", \"timecollected\": \"2020-10-10 21:03:32\", \"zipcode\": 95192, \"latitude\": \"37.342839\", \"longitude\": \"-121.880796\", \"temperature\": \"27.64\", \"humidity\": \"81.89\"}'\n",
            "Publishing message 10/10: 'CMPEIoT1/cmpeiotdevice2-payload-10'\n"
          ],
          "name": "stdout"
        }
      ]
    },
    {
      "cell_type": "code",
      "metadata": {
        "id": "Wauazb_qxce6",
        "outputId": "6f8b9ff7-5dd1-4ad7-de80-4ece484ce8c1",
        "colab": {
          "base_uri": "https://localhost:8080/"
        }
      },
      "source": [
        "print(args.imagefolder_path) #upload some images to this folder"
      ],
      "execution_count": 37,
      "outputs": [
        {
          "output_type": "stream",
          "text": [
            "./data\n"
          ],
          "name": "stdout"
        }
      ]
    },
    {
      "cell_type": "markdown",
      "metadata": {
        "id": "LWv4QbjquBYK"
      },
      "source": [
        "Now data is sent from VM to pubsub. Check the data in pubsub and add it to firestore to make http calls and send to a web app using Rest API."
      ]
    }
  ]
}